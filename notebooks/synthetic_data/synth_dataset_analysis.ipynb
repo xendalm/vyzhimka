{
 "cells": [
  {
   "metadata": {
    "ExecuteTime": {
     "end_time": "2025-05-24T17:45:59.705528Z",
     "start_time": "2025-05-24T17:45:56.329697Z"
    }
   },
   "cell_type": "code",
   "source": [
    "from datasets import load_dataset\n",
    "from transformers import AutoTokenizer\n",
    "from datasets import load_from_disk\n",
    "from nltk.tokenize import word_tokenize\n",
    "\n",
    "INPUT_TOKEN_LIMIT = 1024\n",
    "TASK_PROMPT = \"<LM> Сократи текст: \"\n",
    "tokenizer = AutoTokenizer.from_pretrained(\"ai-forever/FRED-T5-large\")"
   ],
   "id": "bd3729f7e1d06a27",
   "outputs": [],
   "execution_count": 1
  },
  {
   "metadata": {
    "ExecuteTime": {
     "end_time": "2025-05-24T17:45:59.714857Z",
     "start_time": "2025-05-24T17:45:59.712302Z"
    }
   },
   "cell_type": "code",
   "source": [
    "def get_words_num(text):\n",
    "\treturn len([token for token in word_tokenize(text, language='russian') if token.isalpha()])\n",
    "\n",
    "def collect_stats(example):\n",
    "    return {\n",
    "\t\t\"input_tokens\": len(tokenizer(TASK_PROMPT+example[\"text\"], truncation=False)[\"input_ids\"]),\n",
    "\t\t\"word_num\": get_words_num(example[\"text\"]),\n",
    "\t}\n",
    "\n",
    "def is_short_enough(example):\n",
    "    return example[\"input_tokens\"] < INPUT_TOKEN_LIMIT\n",
    "\n",
    "def describe(df, cols= (\"input_tokens\", \"word_num\")):\n",
    "    for i, col in enumerate(cols):\n",
    "        print(df[col].describe(), end=\"\\n\\n\" if i < len(cols)-1 else \"\\n\")"
   ],
   "id": "bd7e87a7f9b04bc0",
   "outputs": [],
   "execution_count": 2
  },
  {
   "metadata": {},
   "cell_type": "markdown",
   "source": "# NPlus1",
   "id": "57233790625125af"
  },
  {
   "metadata": {
    "ExecuteTime": {
     "end_time": "2025-05-24T17:46:06.668943Z",
     "start_time": "2025-05-24T17:45:59.723620Z"
    }
   },
   "cell_type": "code",
   "source": [
    "nplus = load_dataset(\"cointegrated/taiga_stripped_rest\", split=\"NPlus1\")\n",
    "nplus.shape"
   ],
   "id": "a96b9380f293be62",
   "outputs": [
    {
     "data": {
      "text/plain": [
       "(7000, 2)"
      ]
     },
     "execution_count": 3,
     "metadata": {},
     "output_type": "execute_result"
    }
   ],
   "execution_count": 3
  },
  {
   "metadata": {
    "ExecuteTime": {
     "end_time": "2025-05-24T17:46:10.692629Z",
     "start_time": "2025-05-24T17:46:06.774017Z"
    }
   },
   "cell_type": "code",
   "source": "nplus = nplus.map(collect_stats, num_proc=4)",
   "id": "25d346915e171028",
   "outputs": [
    {
     "data": {
      "text/plain": [
       "Map (num_proc=4):   0%|          | 0/7000 [00:00<?, ? examples/s]"
      ],
      "application/vnd.jupyter.widget-view+json": {
       "version_major": 2,
       "version_minor": 0,
       "model_id": "e0ad0d476cc64d2895641b911a5082ed"
      }
     },
     "metadata": {},
     "output_type": "display_data"
    }
   ],
   "execution_count": 4
  },
  {
   "metadata": {
    "ExecuteTime": {
     "end_time": "2025-05-24T17:46:10.768670Z",
     "start_time": "2025-05-24T17:46:10.701289Z"
    }
   },
   "cell_type": "code",
   "source": [
    "df = nplus.to_pandas()\n",
    "describe(nplus.to_pandas())"
   ],
   "id": "82866b615c8a4e0d",
   "outputs": [
    {
     "name": "stdout",
     "output_type": "stream",
     "text": [
      "count    7000.000000\n",
      "mean      411.173286\n",
      "std       211.463315\n",
      "min        10.000000\n",
      "25%       261.000000\n",
      "50%       369.000000\n",
      "75%       523.000000\n",
      "max      2442.000000\n",
      "Name: input_tokens, dtype: float64\n",
      "\n",
      "count    7000.000000\n",
      "mean      220.872857\n",
      "std       110.441831\n",
      "min         1.000000\n",
      "25%       142.000000\n",
      "50%       201.000000\n",
      "75%       282.000000\n",
      "max      1087.000000\n",
      "Name: word_num, dtype: float64\n"
     ]
    }
   ],
   "execution_count": 5
  },
  {
   "metadata": {
    "ExecuteTime": {
     "end_time": "2025-05-24T17:46:11.172053Z",
     "start_time": "2025-05-24T17:46:10.836813Z"
    }
   },
   "cell_type": "code",
   "source": "df['word_num'].hist(bins=60)",
   "id": "8d2834384c7c088f",
   "outputs": [
    {
     "data": {
      "text/plain": [
       "<Axes: >"
      ]
     },
     "execution_count": 6,
     "metadata": {},
     "output_type": "execute_result"
    },
    {
     "data": {
      "text/plain": [
       "<Figure size 640x480 with 1 Axes>"
      ],
      "image/png": "[encoded data removed]"
     },
     "metadata": {},
     "output_type": "display_data"
    }
   ],
   "execution_count": 6
  },
  {
   "metadata": {
    "ExecuteTime": {
     "end_time": "2025-05-24T17:46:11.256918Z",
     "start_time": "2025-05-24T17:46:11.190621Z"
    }
   },
   "cell_type": "code",
   "source": "df['input_tokens'].hist(bins=60)",
   "id": "84125f365c4e2e92",
   "outputs": [
    {
     "data": {
      "text/plain": [
       "<Axes: >"
      ]
     },
     "execution_count": 7,
     "metadata": {},
     "output_type": "execute_result"
    },
    {
     "data": {
      "text/plain": [
       "<Figure size 640x480 with 1 Axes>"
      ],
      "image/png": "[encoded data removed]"
     },
     "metadata": {},
     "output_type": "display_data"
    }
   ],
   "execution_count": 7
  },
  {
   "metadata": {},
   "cell_type": "markdown",
   "source": "# Fontanka",
   "id": "72d5c67dc56904ad"
  },
  {
   "metadata": {
    "ExecuteTime": {
     "end_time": "2025-05-24T17:46:15.945517Z",
     "start_time": "2025-05-24T17:46:11.264832Z"
    }
   },
   "cell_type": "code",
   "source": [
    "fontanka = load_dataset(\"cointegrated/taiga_stripped_rest\", split=\"Fontanka\")\n",
    "fontanka.shape"
   ],
   "id": "cdab696ccf0f951c",
   "outputs": [
    {
     "data": {
      "text/plain": [
       "(342683, 2)"
      ]
     },
     "execution_count": 8,
     "metadata": {},
     "output_type": "execute_result"
    }
   ],
   "execution_count": 8
  },
  {
   "metadata": {
    "ExecuteTime": {
     "end_time": "2025-05-24T17:46:16.413971Z",
     "start_time": "2025-05-24T17:46:16.011576Z"
    }
   },
   "cell_type": "code",
   "source": "fontanka = fontanka.map(collect_stats, num_proc=8)",
   "id": "9f98eaa085b2e9c6",
   "outputs": [],
   "execution_count": 9
  },
  {
   "metadata": {
    "ExecuteTime": {
     "end_time": "2025-05-24T17:46:16.443113Z",
     "start_time": "2025-05-24T17:46:16.421805Z"
    }
   },
   "cell_type": "code",
   "source": "fontanka_filtered = fontanka.filter(is_short_enough, num_proc=8)",
   "id": "aa0cd45a416cad77",
   "outputs": [],
   "execution_count": 10
  },
  {
   "metadata": {
    "ExecuteTime": {
     "end_time": "2025-05-24T17:46:16.473714Z",
     "start_time": "2025-05-24T17:46:16.451419Z"
    }
   },
   "cell_type": "code",
   "source": "fontanka_filtered = fontanka_filtered.filter(lambda x: 300 < x[\"word_num\"] < 600, num_proc=8)",
   "id": "eba50d991bd48866",
   "outputs": [],
   "execution_count": 11
  },
  {
   "metadata": {
    "ExecuteTime": {
     "end_time": "2025-05-24T17:46:16.698286Z",
     "start_time": "2025-05-24T17:46:16.481373Z"
    }
   },
   "cell_type": "code",
   "source": [
    "df = fontanka_filtered.to_pandas()\n",
    "describe(df)"
   ],
   "id": "8e8fbb5c0baad844",
   "outputs": [
    {
     "name": "stdout",
     "output_type": "stream",
     "text": [
      "count    17377.000000\n",
      "mean       694.102319\n",
      "std        146.695975\n",
      "min        429.000000\n",
      "25%        569.000000\n",
      "50%        665.000000\n",
      "75%        814.000000\n",
      "max       1023.000000\n",
      "Name: input_tokens, dtype: float64\n",
      "\n",
      "count    17377.000000\n",
      "mean       410.333084\n",
      "std         85.890342\n",
      "min        301.000000\n",
      "25%        335.000000\n",
      "50%        388.000000\n",
      "75%        479.000000\n",
      "max        599.000000\n",
      "Name: word_num, dtype: float64\n"
     ]
    }
   ],
   "execution_count": 12
  },
  {
   "metadata": {
    "ExecuteTime": {
     "end_time": "2025-05-24T17:46:16.847189Z",
     "start_time": "2025-05-24T17:46:16.779086Z"
    }
   },
   "cell_type": "code",
   "source": "df['word_num'].hist(bins=60)",
   "id": "f5cb7b69124dcce7",
   "outputs": [
    {
     "data": {
      "text/plain": [
       "<Axes: >"
      ]
     },
     "execution_count": 13,
     "metadata": {},
     "output_type": "execute_result"
    },
    {
     "data": {
      "text/plain": [
       "<Figure size 640x480 with 1 Axes>"
      ],
      "image/png": "[encoded data removed]"
     },
     "metadata": {},
     "output_type": "display_data"
    }
   ],
   "execution_count": 13
  },
  {
   "metadata": {
    "ExecuteTime": {
     "end_time": "2025-05-24T17:46:16.915281Z",
     "start_time": "2025-05-24T17:46:16.852633Z"
    }
   },
   "cell_type": "code",
   "source": "df['input_tokens'].hist(bins=60)",
   "id": "9fb45d5a80ef08d",
   "outputs": [
    {
     "data": {
      "text/plain": [
       "<Axes: >"
      ]
     },
     "execution_count": 14,
     "metadata": {},
     "output_type": "execute_result"
    },
    {
     "data": {
      "text/plain": [
       "<Figure size 640x480 with 1 Axes>"
      ],
      "image/png": "[encoded data removed]"
     },
     "metadata": {},
     "output_type": "display_data"
    }
   ],
   "execution_count": 14
  },
  {
   "metadata": {},
   "cell_type": "markdown",
   "source": "# Test for reference",
   "id": "77677e471feeedb7"
  },
  {
   "metadata": {
    "ExecuteTime": {
     "end_time": "2025-05-24T17:46:16.929682Z",
     "start_time": "2025-05-24T17:46:16.923827Z"
    }
   },
   "cell_type": "code",
   "source": [
    "test_dataset = load_from_disk(\"filtered_test\")\n",
    "test_df = test_dataset.to_pandas()"
   ],
   "id": "5af13a1d42166374",
   "outputs": [],
   "execution_count": 15
  },
  {
   "metadata": {
    "ExecuteTime": {
     "end_time": "2025-05-24T17:46:17.373982Z",
     "start_time": "2025-05-24T17:46:16.937186Z"
    }
   },
   "cell_type": "code",
   "source": [
    "test_df[\"input_len\"] = test_df[\"text\"].apply(lambda x: len(x))\n",
    "test_df[\"input_tokens\"] = test_df[\"text\"].apply(lambda x: len(tokenizer(x, truncation=False)[\"input_ids\"]))\n",
    "test_df[\"output_tokens\"] = test_df[\"summary\"].apply(lambda x: len(tokenizer(x, truncation=False)[\"input_ids\"]))\n",
    "test_df[\"input_words\"] = test_df[\"text\"].apply(lambda x: get_words_num(x))\n",
    "test_df[\"output_words\"] = test_df[\"summary\"].apply(lambda x: get_words_num(x))"
   ],
   "id": "5aa74aaf8648bbe4",
   "outputs": [],
   "execution_count": 16
  },
  {
   "metadata": {
    "ExecuteTime": {
     "end_time": "2025-05-24T17:46:17.389881Z",
     "start_time": "2025-05-24T17:46:17.383309Z"
    }
   },
   "cell_type": "code",
   "source": "describe(test_df, (\"input_len\", \"input_tokens\", \"output_tokens\", \"input_words\", \"output_words\"))",
   "id": "959f9082f8118e2d",
   "outputs": [
    {
     "name": "stdout",
     "output_type": "stream",
     "text": [
      "count     247.000000\n",
      "mean     1441.680162\n",
      "std       793.431853\n",
      "min        84.000000\n",
      "25%       858.500000\n",
      "50%      1258.000000\n",
      "75%      1835.000000\n",
      "max      4629.000000\n",
      "Name: input_len, dtype: float64\n",
      "\n",
      "count     247.000000\n",
      "mean      308.975709\n",
      "std       170.507133\n",
      "min        24.000000\n",
      "25%       182.500000\n",
      "50%       276.000000\n",
      "75%       404.000000\n",
      "max      1011.000000\n",
      "Name: input_tokens, dtype: float64\n",
      "\n",
      "count    247.000000\n",
      "mean     125.919028\n",
      "std       50.505750\n",
      "min       20.000000\n",
      "25%       91.000000\n",
      "50%      116.000000\n",
      "75%      157.000000\n",
      "max      292.000000\n",
      "Name: output_tokens, dtype: float64\n",
      "\n",
      "count    247.000000\n",
      "mean     183.538462\n",
      "std       99.466736\n",
      "min       12.000000\n",
      "25%      113.500000\n",
      "50%      164.000000\n",
      "75%      235.500000\n",
      "max      613.000000\n",
      "Name: input_words, dtype: float64\n",
      "\n",
      "count    247.000000\n",
      "mean      73.680162\n",
      "std       26.632682\n",
      "min        9.000000\n",
      "25%       54.500000\n",
      "50%       71.000000\n",
      "75%       89.000000\n",
      "max      180.000000\n",
      "Name: output_words, dtype: float64\n"
     ]
    }
   ],
   "execution_count": 17
  }
 ],
 "metadata": {
  "kernelspec": {
   "display_name": "Python 3",
   "language": "python",
   "name": "python3"
  },
  "language_info": {
   "codemirror_mode": {
    "name": "ipython",
    "version": 2
   },
   "file_extension": ".py",
   "mimetype": "text/x-python",
   "name": "python",
   "nbconvert_exporter": "python",
   "pygments_lexer": "ipython2",
   "version": "2.7.6"
  }
 },
 "nbformat": 4,
 "nbformat_minor": 5
}
