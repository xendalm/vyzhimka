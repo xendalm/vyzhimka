{
 "cells": [
  {
   "metadata": {
    "ExecuteTime": {
     "end_time": "2025-06-12T02:13:54.105793Z",
     "start_time": "2025-06-12T02:13:54.057290Z"
    }
   },
   "cell_type": "code",
   "source": [
    "%load_ext autoreload\n",
    "%autoreload 2"
   ],
   "id": "b06c3df7875279a7",
   "outputs": [
    {
     "name": "stdout",
     "output_type": "stream",
     "text": [
      "The autoreload extension is already loaded. To reload it, use:\n",
      "  %reload_ext autoreload\n"
     ]
    }
   ],
   "execution_count": 71
  },
  {
   "metadata": {
    "ExecuteTime": {
     "end_time": "2025-06-12T02:13:54.965665Z",
     "start_time": "2025-06-12T02:13:54.109098Z"
    }
   },
   "cell_type": "code",
   "source": [
    "from transformers import AutoTokenizer\n",
    "from gen_tools import (\n",
    "    FRED_T5_MODEL_NAME,\n",
    "    INPUT_TOKEN_LIMIT_FRED_T5,\n",
    "    TASK_PROMPT,\n",
    "    MIN_TEXT_TOKENS_FOR_SUMMARIZATION,\n",
    "    GEMINI_API_KEY,\n",
    "    GEMINI_MODEL_NAME_PRIMARY\n",
    ")\n",
    "import gen_tools\n",
    "from datasets import load_dataset\n",
    "import google.generativeai as genai\n",
    "import os\n",
    "\n",
    "HF_DATASET_NAME = \"cointegrated/taiga_stripped_rest\"\n",
    "HF_DATASET_SPLIT = \"NPlus1\"\n",
    "OUTPUT_JSONL_FILE = \"nplus1_generated_summaries.jsonl\"\n",
    "PROCESSED_INDICES_FILE = \"nplus1_processed_indices.txt\"\n",
    "FINAL_HF_DATASET_PATH = \"nplus1_gemini\"\n",
    "\n",
    "tokenizer = AutoTokenizer.from_pretrained(FRED_T5_MODEL_NAME)"
   ],
   "id": "9efd1d544c94fd53",
   "outputs": [],
   "execution_count": 72
  },
  {
   "metadata": {
    "ExecuteTime": {
     "end_time": "2025-06-12T02:13:54.991393Z",
     "start_time": "2025-06-12T02:13:54.972941Z"
    }
   },
   "cell_type": "code",
   "source": [
    "tokens_in_task_prompt_fred_t5 = len(tokenizer(TASK_PROMPT, add_special_tokens=False)['input_ids'])\n",
    "NUM_SPECIAL_TOKENS_FOR_FRED_T5_INPUT = 1\n",
    "MAX_TEXT_TOKENS_FOR_FRED_T5_COMPATIBLE_INPUT = INPUT_TOKEN_LIMIT_FRED_T5 - \\\n",
    "                                               tokens_in_task_prompt_fred_t5 - \\\n",
    "                                               NUM_SPECIAL_TOKENS_FOR_FRED_T5_INPUT"
   ],
   "id": "19e3366d6723f3d6",
   "outputs": [],
   "execution_count": 73
  },
  {
   "metadata": {
    "ExecuteTime": {
     "end_time": "2025-06-12T02:14:00.896050Z",
     "start_time": "2025-06-12T02:13:54.999611Z"
    }
   },
   "cell_type": "code",
   "source": [
    "raw_dataset = load_dataset(HF_DATASET_NAME, split=HF_DATASET_SPLIT)\n",
    "print(f\"Loaded '{HF_DATASET_SPLIT}' split with {len(raw_dataset)} examples.\")"
   ],
   "id": "950f5676a14ed908",
   "outputs": [
    {
     "name": "stdout",
     "output_type": "stream",
     "text": [
      "Loaded 'NPlus1' split with 7000 examples.\n"
     ]
    }
   ],
   "execution_count": 74
  },
  {
   "metadata": {
    "ExecuteTime": {
     "end_time": "2025-06-12T02:14:12.622263Z",
     "start_time": "2025-06-12T02:14:00.903357Z"
    }
   },
   "cell_type": "code",
   "source": [
    "prepared_dataset_for_gemini = gen_tools.preprocess_and_filter_dataset_with_exact_deduplication(\n",
    "    raw_dataset,\n",
    "    tokenizer,\n",
    "    MAX_TEXT_TOKENS_FOR_FRED_T5_COMPATIBLE_INPUT,\n",
    "    MIN_TEXT_TOKENS_FOR_SUMMARIZATION\n",
    ")"
   ],
   "id": "dataset_loading_and_preparation",
   "outputs": [
    {
     "name": "stdout",
     "output_type": "stream",
     "text": [
      "Starting preprocessing. Initial size: 7000\n",
      "Targeting max text tokens for processing: 1017\n"
     ]
    },
    {
     "data": {
      "text/plain": [
       "Cleaning, Truncating, and Exact Deduplicating:   0%|          | 0/7000 [00:00<?, ?it/s]"
      ],
      "application/vnd.jupyter.widget-view+json": {
       "version_major": 2,
       "version_minor": 0,
       "model_id": "3c4f893a9a2e4b719a9a88e478e95a13"
      }
     },
     "metadata": {},
     "output_type": "display_data"
    },
    {
     "name": "stdout",
     "output_type": "stream",
     "text": [
      "Finished preprocessing. Exact duplicates found and skipped: 1\n",
      "Filtered dataset size after exact deduplication: 6853\n"
     ]
    }
   ],
   "execution_count": 75
  },
  {
   "metadata": {
    "ExecuteTime": {
     "end_time": "2025-06-12T02:14:12.649587Z",
     "start_time": "2025-06-12T02:14:12.630773Z"
    }
   },
   "cell_type": "code",
   "source": "prepared_dataset_for_gemini",
   "id": "efd047b487104954",
   "outputs": [
    {
     "data": {
      "text/plain": [
       "Dataset({\n",
       "    features: ['file', 'processed_text', 'processed_text_tokens'],\n",
       "    num_rows: 6853\n",
       "})"
      ]
     },
     "execution_count": 76,
     "metadata": {},
     "output_type": "execute_result"
    }
   ],
   "execution_count": 76
  },
  {
   "metadata": {
    "ExecuteTime": {
     "end_time": "2025-06-12T02:14:12.777684Z",
     "start_time": "2025-06-12T02:14:12.668345Z"
    }
   },
   "cell_type": "code",
   "source": "prepared_dataset_for_gemini.to_pandas()['processed_text_tokens'].hist(bins=60)",
   "id": "5d97bba1b86d632d",
   "outputs": [
    {
     "data": {
      "text/plain": [
       "<Axes: >"
      ]
     },
     "execution_count": 77,
     "metadata": {},
     "output_type": "execute_result"
    },
    {
     "data": {
      "text/plain": [
       "<Figure size 640x480 with 1 Axes>"
      ],
      "image/png": "[encoded data removed]"
     },
     "metadata": {},
     "output_type": "display_data"
    }
   ],
   "execution_count": 77
  },
  {
   "metadata": {
    "ExecuteTime": {
     "end_time": "2025-06-12T02:14:12.837292Z",
     "start_time": "2025-06-12T02:14:12.816154Z"
    }
   },
   "cell_type": "code",
   "source": [
    "genai.configure(api_key=GEMINI_API_KEY)\n",
    "model_gemini = genai.GenerativeModel(GEMINI_MODEL_NAME_PRIMARY)"
   ],
   "id": "gemini_model_initialization",
   "outputs": [],
   "execution_count": 78
  },
  {
   "metadata": {
    "ExecuteTime": {
     "end_time": "2025-06-12T02:14:12.858801Z",
     "start_time": "2025-06-12T02:14:12.840104Z"
    }
   },
   "cell_type": "code",
   "source": "gen_tools.generate_summaries_resumable_full_stats(prepared_dataset_for_gemini, model_gemini, tokenizer, PROCESSED_INDICES_FILE, OUTPUT_JSONL_FILE)",
   "id": "gemini_summarization_process",
   "outputs": [
    {
     "name": "stdout",
     "output_type": "stream",
     "text": [
      "Loaded 6853 already processed indices.\n",
      "No new items to process.\n"
     ]
    }
   ],
   "execution_count": 79
  },
  {
   "metadata": {
    "ExecuteTime": {
     "end_time": "2025-06-12T02:14:12.885486Z",
     "start_time": "2025-06-12T02:14:12.865941Z"
    }
   },
   "cell_type": "code",
   "source": [
    "processed_indices = []\n",
    "if os.path.exists(PROCESSED_INDICES_FILE): \n",
    "    with open(PROCESSED_INDICES_FILE) as f:\n",
    "        processed_indices = [int(line.strip()) for line in f if line.strip()]\n",
    "len(processed_indices) == len(set(processed_indices)), len(processed_indices)"
   ],
   "id": "e20e0a63e4a1576e",
   "outputs": [
    {
     "data": {
      "text/plain": [
       "(True, 6853)"
      ]
     },
     "execution_count": 80,
     "metadata": {},
     "output_type": "execute_result"
    }
   ],
   "execution_count": 80
  },
  {
   "metadata": {
    "ExecuteTime": {
     "end_time": "2025-06-12T02:14:13.222774Z",
     "start_time": "2025-06-12T02:14:12.893262Z"
    }
   },
   "cell_type": "code",
   "source": [
    "final_dataset = gen_tools.create_final_huggingface_dataset_from_jsonl(OUTPUT_JSONL_FILE, FINAL_HF_DATASET_PATH)\n",
    "final_dataset"
   ],
   "id": "final_dataset_assembly_and_save",
   "outputs": [
    {
     "name": "stdout",
     "output_type": "stream",
     "text": [
      "Created Hugging Face dataset with 6853 examples from JSONL.\n",
      "Saving Hugging Face dataset to nplus1_gemini...\n"
     ]
    },
    {
     "data": {
      "text/plain": [
       "Saving the dataset (0/1 shards):   0%|          | 0/6853 [00:00<?, ? examples/s]"
      ],
      "application/vnd.jupyter.widget-view+json": {
       "version_major": 2,
       "version_minor": 0,
       "model_id": "63ea80e3605f4b5bb9da7613c22d974d"
      }
     },
     "metadata": {},
     "output_type": "display_data"
    },
    {
     "name": "stdout",
     "output_type": "stream",
     "text": [
      "Hugging Face dataset saved.\n"
     ]
    },
    {
     "data": {
      "text/plain": [
       "Dataset({\n",
       "    features: ['file', 'text', 'summaries'],\n",
       "    num_rows: 6853\n",
       "})"
      ]
     },
     "execution_count": 81,
     "metadata": {},
     "output_type": "execute_result"
    }
   ],
   "execution_count": 81
  }
 ],
 "metadata": {
  "kernelspec": {
   "display_name": "Python 3 (ipykernel)",
   "language": "python",
   "name": "python3"
  },
  "language_info": {
   "codemirror_mode": {
    "name": "ipython",
    "version": 3
   },
   "file_extension": ".py",
   "mimetype": "text/x-python",
   "name": "python",
   "nbconvert_exporter": "python",
   "pygments_lexer": "ipython3",
   "version": "3.10.12"
  }
 },
 "nbformat": 4,
 "nbformat_minor": 5
}
