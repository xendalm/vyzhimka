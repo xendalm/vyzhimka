{
 "cells": [
  {
   "metadata": {},
   "cell_type": "code",
   "outputs": [],
   "execution_count": null,
   "source": [
    "%load_ext autoreload\n",
    "%autoreload 2"
   ],
   "id": "e1e560624f969e75"
  },
  {
   "metadata": {
    "ExecuteTime": {
     "end_time": "2025-05-31T14:54:06.597612Z",
     "start_time": "2025-05-31T14:54:06.292780Z"
    }
   },
   "cell_type": "code",
   "source": [
    "from transformers import AutoTokenizer\n",
    "from common import (\n",
    "    FRED_T5_MODEL_NAME,\n",
    "    INPUT_TOKEN_LIMIT_FRED_T5,\n",
    "    TASK_PROMPT,\n",
    "    MIN_TEXT_TOKENS_FOR_SUMMARIZATION,\n",
    "    GEMINI_API_KEY,\n",
    "    GEMINI_MODEL_NAME_PRIMARY\n",
    ")\n",
    "import common\n",
    "from datasets import load_from_disk\n",
    "import google.generativeai as genai\n",
    "import os\n",
    "\n",
    "DATASET_NAME = 'filtered_fontanka'\n",
    "OUTPUT_JSONL_FILE = \"fontanka_generated_summaries.jsonl\"\n",
    "PROCESSED_INDICES_FILE = \"fontanka_processed_indices.txt\"\n",
    "FINAL_HF_DATASET_PATH = \"fontanka_gemini\"\n",
    "tokenizer = AutoTokenizer.from_pretrained(FRED_T5_MODEL_NAME)"
   ],
   "id": "initial_setup_and_variables",
   "outputs": [],
   "execution_count": 4
  },
  {
   "metadata": {
    "ExecuteTime": {
     "end_time": "2025-05-31T14:53:22.318061Z",
     "start_time": "2025-05-31T14:53:22.313158Z"
    }
   },
   "cell_type": "code",
   "source": [
    "tokens_in_task_prompt_fred_t5 = len(tokenizer(TASK_PROMPT, add_special_tokens=False)['input_ids'])\n",
    "NUM_SPECIAL_TOKENS_FOR_FRED_T5_INPUT = 1\n",
    "MAX_TEXT_TOKENS_FOR_FRED_T5_COMPATIBLE_INPUT = INPUT_TOKEN_LIMIT_FRED_T5 - \\\n",
    "                                               tokens_in_task_prompt_fred_t5 - \\\n",
    "                                               NUM_SPECIAL_TOKENS_FOR_FRED_T5_INPUT"
   ],
   "id": "dccdbd52a4443834",
   "outputs": [],
   "execution_count": 2
  },
  {
   "metadata": {
    "ExecuteTime": {
     "end_time": "2025-05-27T19:24:50.343090Z",
     "start_time": "2025-05-27T19:24:50.323345Z"
    }
   },
   "cell_type": "code",
   "source": [
    "raw_dataset = load_from_disk(DATASET_NAME)\n",
    "print(f\"Loaded '{DATASET_NAME}' split with {len(raw_dataset)} examples.\")"
   ],
   "id": "950f5676a14ed908",
   "outputs": [
    {
     "name": "stdout",
     "output_type": "stream",
     "text": [
      "Loaded 'filtered_fontanka' split with 17377 examples.\n"
     ]
    },
    {
     "name": "stderr",
     "output_type": "stream",
     "text": [
      "huggingface/tokenizers: The current process just got forked, after parallelism has already been used. Disabling parallelism to avoid deadlocks...\n",
      "To disable this warning, you can either:\n",
      "\t- Avoid using `tokenizers` before the fork if possible\n",
      "\t- Explicitly set the environment variable TOKENIZERS_PARALLELISM=(true | false)\n"
     ]
    }
   ],
   "execution_count": 5
  },
  {
   "metadata": {
    "ExecuteTime": {
     "end_time": "2025-05-27T19:25:36.408918Z",
     "start_time": "2025-05-27T19:24:50.355784Z"
    }
   },
   "cell_type": "code",
   "source": [
    "prepared_dataset_for_gemini = common.preprocess_and_filter_dataset_with_exact_deduplication(\n",
    "    raw_dataset,\n",
    "    tokenizer,\n",
    "    MAX_TEXT_TOKENS_FOR_FRED_T5_COMPATIBLE_INPUT,\n",
    "    MIN_TEXT_TOKENS_FOR_SUMMARIZATION\n",
    ")"
   ],
   "id": "dataset_loading_and_preparation",
   "outputs": [
    {
     "name": "stdout",
     "output_type": "stream",
     "text": [
      "Starting preprocessing. Initial size: 17377\n",
      "Targeting max text tokens for processing: 1017\n"
     ]
    },
    {
     "data": {
      "text/plain": [
       "Cleaning, Truncating, and Exact Deduplicating:   0%|          | 0/17377 [00:00<?, ?it/s]"
      ],
      "application/vnd.jupyter.widget-view+json": {
       "version_major": 2,
       "version_minor": 0,
       "model_id": "649a14cd92cb4e6ea1cc18495031d494"
      }
     },
     "metadata": {},
     "output_type": "display_data"
    },
    {
     "name": "stdout",
     "output_type": "stream",
     "text": [
      "Finished preprocessing. Exact duplicates found and skipped: 37\n",
      "Filtered dataset size after exact deduplication: 17340\n"
     ]
    }
   ],
   "execution_count": 6
  },
  {
   "metadata": {
    "ExecuteTime": {
     "end_time": "2025-05-27T19:25:36.477792Z",
     "start_time": "2025-05-27T19:25:36.475492Z"
    }
   },
   "cell_type": "code",
   "source": "prepared_dataset_for_gemini",
   "id": "efd047b487104954",
   "outputs": [
    {
     "data": {
      "text/plain": [
       "Dataset({\n",
       "    features: ['file', 'processed_text', 'processed_text_tokens'],\n",
       "    num_rows: 17340\n",
       "})"
      ]
     },
     "execution_count": 7,
     "metadata": {},
     "output_type": "execute_result"
    }
   ],
   "execution_count": 7
  },
  {
   "metadata": {
    "ExecuteTime": {
     "end_time": "2025-05-27T19:25:37.047105Z",
     "start_time": "2025-05-27T19:25:36.500885Z"
    }
   },
   "cell_type": "code",
   "source": "prepared_dataset_for_gemini.to_pandas()['processed_text_tokens'].hist(bins=60)",
   "id": "83f043323c555a79",
   "outputs": [
    {
     "data": {
      "text/plain": [
       "<Axes: >"
      ]
     },
     "execution_count": 8,
     "metadata": {},
     "output_type": "execute_result"
    },
    {
     "data": {
      "text/plain": [
       "<Figure size 640x480 with 1 Axes>"
      ],
      "image/png": "[encoded data removed]"
     },
     "metadata": {},
     "output_type": "display_data"
    }
   ],
   "execution_count": 8
  },
  {
   "metadata": {
    "ExecuteTime": {
     "end_time": "2025-05-31T14:54:09.952628Z",
     "start_time": "2025-05-31T14:54:09.950380Z"
    }
   },
   "cell_type": "code",
   "source": [
    "genai.configure(api_key=GEMINI_API_KEY)\n",
    "model_gemini = genai.GenerativeModel(GEMINI_MODEL_NAME_PRIMARY)"
   ],
   "id": "gemini_model_initialization",
   "outputs": [],
   "execution_count": 5
  },
  {
   "metadata": {
    "ExecuteTime": {
     "end_time": "2025-05-27T20:01:03.560731Z",
     "start_time": "2025-05-27T19:34:50.365785Z"
    }
   },
   "cell_type": "code",
   "source": "common.generate_summaries_resumable_full_stats(prepared_dataset_for_gemini, model_gemini, tokenizer, PROCESSED_INDICES_FILE, OUTPUT_JSONL_FILE)",
   "id": "gemini_summarization_process",
   "outputs": [
    {
     "name": "stdout",
     "output_type": "stream",
     "text": [
      "Loaded 17162 already processed indices.\n",
      "Attempting to process 178 items in this run.\n"
     ]
    },
    {
     "data": {
      "text/plain": [
       "Generating Summaries & Full Stats:   0%|          | 0/178 [00:00<?, ?it/s]"
      ],
      "application/vnd.jupyter.widget-view+json": {
       "version_major": 2,
       "version_minor": 0,
       "model_id": "7df4a2e35e6d4c0ab51c32224fae579d"
      }
     },
     "metadata": {},
     "output_type": "display_data"
    },
    {
     "name": "stdout",
     "output_type": "stream",
     "text": [
      "\n",
      "--- Generation Finished for this Run ---\n",
      "Processed: 178, Total Time: 687.30s, Avg/Item: 3.86s\n",
      "\n",
      "Source Stats:\n",
      "  Chars: Avg=2880.73, Min=2160, Max=4557\n",
      "  Words: Avg=481.01, Min=365, Max=769\n",
      "  Tokens: Avg=607.98, Min=429, Max=936\n",
      "\n",
      "All Summary Candidates (534 non-empty):\n",
      "  Chars:\n",
      "    Avg=892.52, Min=558, Max=1362\n",
      "    Comp.: Avg=0.317, Min=0.144, Max=0.515\n",
      "    25% Quantile: Abs=797.25, Comp.=0.275\n",
      "    50% Quantile: Abs=891.00, Comp.=0.313\n",
      "    75% Quantile: Abs=980.00, Comp.=0.356\n",
      "  Words:\n",
      "    Avg=138.40, Min=87, Max=194\n",
      "    Comp.: Avg=0.295, Min=0.139, Max=0.463\n",
      "    25% Quantile: Abs=125.00, Comp.=0.255\n",
      "    50% Quantile: Abs=137.00, Comp.=0.294\n",
      "    75% Quantile: Abs=153.75, Comp.=0.332\n",
      "  Tokens:\n",
      "    Avg=183.60, Min=113, Max=258\n",
      "    Comp.: Avg=0.310, Min=0.157, Max=0.499\n",
      "    25% Quantile: Abs=164.25, Comp.=0.263\n",
      "    50% Quantile: Abs=182.00, Comp.=0.309\n",
      "    75% Quantile: Abs=205.00, Comp.=0.354\n",
      "\n",
      "Items with no summaries: []\n",
      "Success distribution:\n",
      "  3 summaries: 178 items\n"
     ]
    }
   ],
   "execution_count": 15
  },
  {
   "metadata": {
    "ExecuteTime": {
     "end_time": "2025-05-27T20:15:06.466156Z",
     "start_time": "2025-05-27T20:15:06.456574Z"
    }
   },
   "cell_type": "code",
   "source": [
    "processed_indices = []\n",
    "if os.path.exists(PROCESSED_INDICES_FILE): \n",
    "    with open(PROCESSED_INDICES_FILE) as f:\n",
    "        processed_indices = [int(line.strip()) for line in f if line.strip()]\n",
    "len(processed_indices) == len(set(processed_indices)), len(processed_indices)"
   ],
   "id": "e20e0a63e4a1576e",
   "outputs": [
    {
     "data": {
      "text/plain": [
       "(True, 17338)"
      ]
     },
     "execution_count": 16,
     "metadata": {},
     "output_type": "execute_result"
    }
   ],
   "execution_count": 16
  },
  {
   "metadata": {
    "ExecuteTime": {
     "end_time": "2025-05-27T20:15:20.752835Z",
     "start_time": "2025-05-27T20:15:19.114278Z"
    }
   },
   "cell_type": "code",
   "source": [
    "final_dataset = common.create_final_huggingface_dataset_from_jsonl(OUTPUT_JSONL_FILE, FINAL_HF_DATASET_PATH)\n",
    "final_dataset"
   ],
   "id": "final_dataset_assembly_and_save",
   "outputs": [
    {
     "name": "stdout",
     "output_type": "stream",
     "text": [
      "Created Hugging Face dataset with 17338 examples from JSONL.\n",
      "Saving Hugging Face dataset to fonatka_gemini...\n"
     ]
    },
    {
     "data": {
      "text/plain": [
       "Saving the dataset (0/1 shards):   0%|          | 0/17338 [00:00<?, ? examples/s]"
      ],
      "application/vnd.jupyter.widget-view+json": {
       "version_major": 2,
       "version_minor": 0,
       "model_id": "2476c4082cb84f07bb01acc2bcdc0460"
      }
     },
     "metadata": {},
     "output_type": "display_data"
    },
    {
     "name": "stdout",
     "output_type": "stream",
     "text": [
      "Hugging Face dataset saved.\n"
     ]
    },
    {
     "data": {
      "text/plain": [
       "Dataset({\n",
       "    features: ['file', 'text', 'summaries'],\n",
       "    num_rows: 17338\n",
       "})"
      ]
     },
     "execution_count": 17,
     "metadata": {},
     "output_type": "execute_result"
    }
   ],
   "execution_count": 17
  }
 ],
 "metadata": {
  "kernelspec": {
   "display_name": "Python 3 (ipykernel)",
   "language": "python",
   "name": "python3"
  },
  "language_info": {
   "codemirror_mode": {
    "name": "ipython",
    "version": 3
   },
   "file_extension": ".py",
   "mimetype": "text/x-python",
   "name": "python",
   "nbconvert_exporter": "python",
   "pygments_lexer": "ipython3",
   "version": "3.10.12"
  }
 },
 "nbformat": 4,
 "nbformat_minor": 5
}
