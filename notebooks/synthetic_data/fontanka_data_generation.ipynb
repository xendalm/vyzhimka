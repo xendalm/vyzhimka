{
 "cells": [
  {
   "metadata": {
    "ExecuteTime": {
     "end_time": "2025-06-12T02:10:28.050357Z",
     "start_time": "2025-06-12T02:10:28.004702Z"
    }
   },
   "cell_type": "code",
   "source": [
    "%load_ext autoreload\n",
    "%autoreload 2"
   ],
   "id": "e1e560624f969e75",
   "outputs": [
    {
     "name": "stdout",
     "output_type": "stream",
     "text": [
      "The autoreload extension is already loaded. To reload it, use:\n",
      "  %reload_ext autoreload\n"
     ]
    }
   ],
   "execution_count": 13
  },
  {
   "metadata": {
    "ExecuteTime": {
     "end_time": "2025-06-12T02:10:28.587605Z",
     "start_time": "2025-06-12T02:10:28.054428Z"
    }
   },
   "cell_type": "code",
   "source": [
    "from transformers import AutoTokenizer\n",
    "from gen_tools import (\n",
    "    FRED_T5_MODEL_NAME,\n",
    "    INPUT_TOKEN_LIMIT_FRED_T5,\n",
    "    TASK_PROMPT,\n",
    "    MIN_TEXT_TOKENS_FOR_SUMMARIZATION,\n",
    "    GEMINI_API_KEY,\n",
    "    GEMINI_MODEL_NAME_PRIMARY\n",
    ")\n",
    "import gen_tools\n",
    "from datasets import load_from_disk\n",
    "import google.generativeai as genai\n",
    "import os\n",
    "\n",
    "DATASET_NAME = 'filtered_fontanka'\n",
    "OUTPUT_JSONL_FILE = \"fontanka_generated_summaries.jsonl\"\n",
    "PROCESSED_INDICES_FILE = \"fontanka_processed_indices.txt\"\n",
    "FINAL_HF_DATASET_PATH = \"fontanka_gemini\"\n",
    "tokenizer = AutoTokenizer.from_pretrained(FRED_T5_MODEL_NAME)"
   ],
   "id": "initial_setup_and_variables",
   "outputs": [],
   "execution_count": 14
  },
  {
   "metadata": {
    "ExecuteTime": {
     "end_time": "2025-06-12T02:10:28.612324Z",
     "start_time": "2025-06-12T02:10:28.593975Z"
    }
   },
   "cell_type": "code",
   "source": [
    "tokens_in_task_prompt_fred_t5 = len(tokenizer(TASK_PROMPT, add_special_tokens=False)['input_ids'])\n",
    "NUM_SPECIAL_TOKENS_FOR_FRED_T5_INPUT = 1\n",
    "MAX_TEXT_TOKENS_FOR_FRED_T5_COMPATIBLE_INPUT = INPUT_TOKEN_LIMIT_FRED_T5 - \\\n",
    "                                               tokens_in_task_prompt_fred_t5 - \\\n",
    "                                               NUM_SPECIAL_TOKENS_FOR_FRED_T5_INPUT"
   ],
   "id": "dccdbd52a4443834",
   "outputs": [],
   "execution_count": 15
  },
  {
   "metadata": {
    "ExecuteTime": {
     "end_time": "2025-06-12T02:10:28.696107Z",
     "start_time": "2025-06-12T02:10:28.619582Z"
    }
   },
   "cell_type": "code",
   "source": [
    "raw_dataset = load_from_disk(DATASET_NAME)\n",
    "print(f\"Loaded '{DATASET_NAME}' split with {len(raw_dataset)} examples.\")"
   ],
   "id": "950f5676a14ed908",
   "outputs": [
    {
     "name": "stdout",
     "output_type": "stream",
     "text": [
      "Loaded 'filtered_fontanka' split with 17377 examples.\n"
     ]
    }
   ],
   "execution_count": 16
  },
  {
   "metadata": {
    "ExecuteTime": {
     "end_time": "2025-06-12T02:11:16.295401Z",
     "start_time": "2025-06-12T02:10:28.703522Z"
    }
   },
   "cell_type": "code",
   "source": [
    "prepared_dataset_for_gemini = gen_tools.preprocess_and_filter_dataset_with_exact_deduplication(\n",
    "    raw_dataset,\n",
    "    tokenizer,\n",
    "    MAX_TEXT_TOKENS_FOR_FRED_T5_COMPATIBLE_INPUT,\n",
    "    MIN_TEXT_TOKENS_FOR_SUMMARIZATION\n",
    ")"
   ],
   "id": "dataset_loading_and_preparation",
   "outputs": [
    {
     "name": "stdout",
     "output_type": "stream",
     "text": [
      "Starting preprocessing. Initial size: 17377\n",
      "Targeting max text tokens for processing: 1017\n"
     ]
    },
    {
     "data": {
      "text/plain": [
       "Cleaning, Truncating, and Exact Deduplicating:   0%|          | 0/17377 [00:00<?, ?it/s]"
      ],
      "application/vnd.jupyter.widget-view+json": {
       "version_major": 2,
       "version_minor": 0,
       "model_id": "fe606cc580cf461c8cc04f9420943f28"
      }
     },
     "metadata": {},
     "output_type": "display_data"
    },
    {
     "name": "stdout",
     "output_type": "stream",
     "text": [
      "Finished preprocessing. Exact duplicates found and skipped: 37\n",
      "Filtered dataset size after exact deduplication: 17340\n"
     ]
    }
   ],
   "execution_count": 17
  },
  {
   "metadata": {
    "ExecuteTime": {
     "end_time": "2025-06-12T02:11:16.338315Z",
     "start_time": "2025-06-12T02:11:16.314068Z"
    }
   },
   "cell_type": "code",
   "source": "prepared_dataset_for_gemini",
   "id": "efd047b487104954",
   "outputs": [
    {
     "data": {
      "text/plain": [
       "Dataset({\n",
       "    features: ['file', 'processed_text', 'processed_text_tokens'],\n",
       "    num_rows: 17340\n",
       "})"
      ]
     },
     "execution_count": 18,
     "metadata": {},
     "output_type": "execute_result"
    }
   ],
   "execution_count": 18
  },
  {
   "metadata": {
    "ExecuteTime": {
     "end_time": "2025-06-12T02:11:16.555213Z",
     "start_time": "2025-06-12T02:11:16.352166Z"
    }
   },
   "cell_type": "code",
   "source": "prepared_dataset_for_gemini.to_pandas()['processed_text_tokens'].hist(bins=60)",
   "id": "83f043323c555a79",
   "outputs": [
    {
     "data": {
      "text/plain": [
       "<Axes: >"
      ]
     },
     "execution_count": 19,
     "metadata": {},
     "output_type": "execute_result"
    },
    {
     "data": {
      "text/plain": [
       "<Figure size 640x480 with 1 Axes>"
      ],
      "image/png": "[encoded data removed]"
     },
     "metadata": {},
     "output_type": "display_data"
    }
   ],
   "execution_count": 19
  },
  {
   "metadata": {
    "ExecuteTime": {
     "end_time": "2025-06-12T02:11:16.697355Z",
     "start_time": "2025-06-12T02:11:16.677342Z"
    }
   },
   "cell_type": "code",
   "source": [
    "genai.configure(api_key=GEMINI_API_KEY)\n",
    "model_gemini = genai.GenerativeModel(GEMINI_MODEL_NAME_PRIMARY)"
   ],
   "id": "gemini_model_initialization",
   "outputs": [],
   "execution_count": 20
  },
  {
   "metadata": {
    "ExecuteTime": {
     "end_time": "2025-06-12T02:11:17.359243Z",
     "start_time": "2025-06-12T02:11:16.707549Z"
    }
   },
   "cell_type": "code",
   "source": [
    "gen_tools.generate_summaries_resumable_full_stats(prepared_dataset_for_gemini, model_gemini, tokenizer,\n",
    "                                                  PROCESSED_INDICES_FILE, OUTPUT_JSONL_FILE)"
   ],
   "id": "34b65b5031f8268e",
   "outputs": [
    {
     "name": "stdout",
     "output_type": "stream",
     "text": [
      "Loaded 17339 already processed indices.\n",
      "Attempting to process 1 items in this run.\n"
     ]
    },
    {
     "data": {
      "text/plain": [
       "Generating Summaries & Full Stats:   0%|          | 0/1 [00:00<?, ?it/s]"
      ],
      "application/vnd.jupyter.widget-view+json": {
       "version_major": 2,
       "version_minor": 0,
       "model_id": "69014bbe6ed143628205eda845812047"
      }
     },
     "metadata": {},
     "output_type": "display_data"
    },
    {
     "name": "stdout",
     "output_type": "stream",
     "text": [
      "\n",
      "--- Generation Finished for this Run ---\n",
      "Processed: 0, Total Time: 0.62s, Avg/Item: 0.00s\n",
      "\n",
      "Source Stats:\n",
      "  Chars: Avg=3364.00, Min=3364, Max=3364\n",
      "  Words: Avg=532.00, Min=532, Max=532\n",
      "  Tokens: Avg=683.00, Min=683, Max=683\n",
      "\n",
      "All Summary Candidates (0 non-empty):\n",
      "  No summary data.\n",
      "\n",
      "Items with no summaries: [3123]\n",
      "Success distribution:\n",
      "  0 summaries: 1 items\n"
     ]
    }
   ],
   "execution_count": 21
  },
  {
   "metadata": {
    "ExecuteTime": {
     "end_time": "2025-06-12T02:11:17.761766Z",
     "start_time": "2025-06-12T02:11:17.739111Z"
    }
   },
   "cell_type": "code",
   "source": [
    "processed_indices = []\n",
    "if os.path.exists(PROCESSED_INDICES_FILE): \n",
    "    with open(PROCESSED_INDICES_FILE) as f:\n",
    "        processed_indices = [int(line.strip()) for line in f if line.strip()]\n",
    "len(processed_indices) == len(set(processed_indices)), len(processed_indices)"
   ],
   "id": "e20e0a63e4a1576e",
   "outputs": [
    {
     "data": {
      "text/plain": [
       "(True, 17339)"
      ]
     },
     "execution_count": 23,
     "metadata": {},
     "output_type": "execute_result"
    }
   ],
   "execution_count": 23
  },
  {
   "metadata": {
    "ExecuteTime": {
     "end_time": "2025-06-12T02:11:18.997104Z",
     "start_time": "2025-06-12T02:11:17.832583Z"
    }
   },
   "cell_type": "code",
   "source": [
    "final_dataset = gen_tools.create_final_huggingface_dataset_from_jsonl(OUTPUT_JSONL_FILE, FINAL_HF_DATASET_PATH)\n",
    "final_dataset"
   ],
   "id": "final_dataset_assembly_and_save",
   "outputs": [
    {
     "name": "stdout",
     "output_type": "stream",
     "text": [
      "Created Hugging Face dataset with 17339 examples from JSONL.\n",
      "Saving Hugging Face dataset to fontanka_gemini...\n"
     ]
    },
    {
     "data": {
      "text/plain": [
       "Saving the dataset (0/1 shards):   0%|          | 0/17339 [00:00<?, ? examples/s]"
      ],
      "application/vnd.jupyter.widget-view+json": {
       "version_major": 2,
       "version_minor": 0,
       "model_id": "b84e0f73fa4e4981a43d9aeb224d6ea3"
      }
     },
     "metadata": {},
     "output_type": "display_data"
    },
    {
     "name": "stdout",
     "output_type": "stream",
     "text": [
      "Hugging Face dataset saved.\n"
     ]
    },
    {
     "data": {
      "text/plain": [
       "Dataset({\n",
       "    features: ['file', 'text', 'summaries'],\n",
       "    num_rows: 17339\n",
       "})"
      ]
     },
     "execution_count": 24,
     "metadata": {},
     "output_type": "execute_result"
    }
   ],
   "execution_count": 24
  }
 ],
 "metadata": {
  "kernelspec": {
   "display_name": "Python 3 (ipykernel)",
   "language": "python",
   "name": "python3"
  },
  "language_info": {
   "codemirror_mode": {
    "name": "ipython",
    "version": 3
   },
   "file_extension": ".py",
   "mimetype": "text/x-python",
   "name": "python",
   "nbconvert_exporter": "python",
   "pygments_lexer": "ipython3",
   "version": "3.10.12"
  }
 },
 "nbformat": 4,
 "nbformat_minor": 5
}
