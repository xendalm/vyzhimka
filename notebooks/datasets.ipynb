{
 "cells": [
  {
   "cell_type": "code",
   "execution_count": 16,
   "id": "4c2b4b45",
   "metadata": {},
   "outputs": [],
   "source": [
    "from datasets import load_dataset, concatenate_datasets"
   ]
  },
  {
   "cell_type": "code",
   "execution_count": 17,
   "id": "7eb24ac9",
   "metadata": {},
   "outputs": [],
   "source": [
    "import numpy as np\n",
    "\n",
    "def get_stats(data):\n",
    "    words_num = data.map(lambda x: {\"text_words_num\": len(x[\"text\"].split()), \"summary_words_num\": len(x[\"summary\"].split())})\n",
    "    avg_words_num_text = np.mean(words_num[\"text_words_num\"])\n",
    "    avg_words_num_summary = np.mean(words_num[\"summary_words_num\"])\n",
    "\n",
    "    return avg_words_num_text, avg_words_num_summary"
   ]
  },
  {
   "cell_type": "code",
   "execution_count": 18,
   "id": "1a7811b2",
   "metadata": {},
   "outputs": [
    {
     "name": "stdout",
     "output_type": "stream",
     "text": [
      "27063\n"
     ]
    },
    {
     "data": {
      "text/plain": [
       "(790.2411040904556, 12.775006466393231)"
      ]
     },
     "execution_count": 18,
     "metadata": {},
     "output_type": "execute_result"
    }
   ],
   "source": [
    "data1 = load_dataset(\"reciTAL/mlsum\", 'ru')\n",
    "\n",
    "full_data1 = concatenate_datasets([\n",
    "    data1[\"train\"],\n",
    "    data1[\"validation\"],\n",
    "    data1[\"test\"]\n",
    "])\n",
    "full_data1 = full_data1.remove_columns(['topic', 'url', 'title', 'date'])\n",
    "print(len(full_data1))\n",
    "\n",
    "get_stats(full_data1)"
   ]
  },
  {
   "cell_type": "code",
   "execution_count": 19,
   "id": "c5281fc6",
   "metadata": {},
   "outputs": [
    {
     "name": "stdout",
     "output_type": "stream",
     "text": [
      "74126\n"
     ]
    },
    {
     "data": {
      "text/plain": [
       "(628.2115721878963, 42.660550953781396)"
      ]
     },
     "execution_count": 19,
     "metadata": {},
     "output_type": "execute_result"
    }
   ],
   "source": [
    "data2 = load_dataset(\"IlyaGusev/gazeta\")\n",
    "\n",
    "full_data2 = concatenate_datasets([\n",
    "    data2[\"train\"],\n",
    "    data2[\"validation\"],\n",
    "    data2[\"test\"]\n",
    "])\n",
    "full_data2 = full_data2.remove_columns(['title', 'date', 'url'])\n",
    "print(len(full_data2))\n",
    "\n",
    "get_stats(full_data2)"
   ]
  },
  {
   "cell_type": "code",
   "execution_count": 20,
   "id": "f56eb993",
   "metadata": {},
   "outputs": [
    {
     "name": "stdout",
     "output_type": "stream",
     "text": [
      "77803\n"
     ]
    },
    {
     "data": {
      "text/plain": [
       "(547.6641132090023, 25.173039600015425)"
      ]
     },
     "execution_count": 20,
     "metadata": {},
     "output_type": "execute_result"
    }
   ],
   "source": [
    "data3 = load_dataset(\"csebuetnlp/xlsum\", \"russian\")\n",
    "\n",
    "full_data3 = concatenate_datasets([\n",
    "    data3[\"train\"],\n",
    "    data3[\"test\"],\n",
    "    data3[\"validation\"]\n",
    "])\n",
    "full_data3 = full_data3.remove_columns(['id', 'url', 'title'])\n",
    "print(len(full_data3))\n",
    "\n",
    "get_stats(full_data3)"
   ]
  },
  {
   "cell_type": "code",
   "execution_count": 21,
   "id": "c6310948",
   "metadata": {},
   "outputs": [
    {
     "name": "stdout",
     "output_type": "stream",
     "text": [
      "50259\n"
     ]
    },
    {
     "data": {
      "text/plain": [
       "(321.91860164348674, 27.94172188065819)"
      ]
     },
     "execution_count": 21,
     "metadata": {},
     "output_type": "execute_result"
    }
   ],
   "source": [
    "data4 = load_dataset(\"GEM/wiki_lingua\", \"ru\")\n",
    "\n",
    "full_data4 = concatenate_datasets([\n",
    "    data4[\"train\"],\n",
    "    data4[\"validation\"],\n",
    "    data4[\"test\"]\n",
    "])\n",
    "full_data4 = full_data4.remove_columns(['gem_id', 'gem_parent_id', 'source_language', 'target_language', 'references'])\n",
    "full_data4 = full_data4.rename_columns({\"source\": \"text\", \"target\": \"summary\"})\n",
    "print(len(full_data4))\n",
    "\n",
    "get_stats(full_data4)"
   ]
  },
  {
   "cell_type": "code",
   "execution_count": 24,
   "id": "e86952d5",
   "metadata": {},
   "outputs": [
    {
     "data": {
      "application/vnd.jupyter.widget-view+json": {
       "model_id": "bebcab6aa18f49958d366009a53c1fd8",
       "version_major": 2,
       "version_minor": 0
      },
      "text/plain": [
       "Saving the dataset (0/4 shards):   0%|          | 0/229251 [00:00<?, ? examples/s]"
      ]
     },
     "metadata": {},
     "output_type": "display_data"
    }
   ],
   "source": [
    "combined_data = concatenate_datasets([full_data1, full_data2, full_data3, full_data4])\n",
    "combined_data.save_to_disk(\"combined_data\")"
   ]
  },
  {
   "cell_type": "code",
   "execution_count": 37,
   "id": "d8c33f44",
   "metadata": {},
   "outputs": [],
   "source": [
    "from transformers import AutoTokenizer\n",
    "tokenizer = AutoTokenizer.from_pretrained(\"ai-forever/FRED-T5-large\")\n",
    "\n",
    "MAX_INPUT_LENGTH = 1024\n",
    "MAX_TARGET_LENGTH = 300\n",
    "TASK_PROMPT = \"<LM> Сократи текст: \"\n",
    "\n",
    "def is_short_enough(example):\n",
    "    text_tokens = tokenizer(\n",
    "        TASK_PROMPT + example[\"text\"],\n",
    "        truncation=False,\n",
    "    )[\"input_ids\"]\n",
    "\n",
    "    summary_tokens = tokenizer(\n",
    "        example[\"summary\"],\n",
    "        truncation=False,\n",
    "    )[\"input_ids\"]\n",
    "\n",
    "    return len(text_tokens) < MAX_INPUT_LENGTH and len(summary_tokens) < MAX_TARGET_LENGTH\n",
    "\n",
    "def count_truncations(example):\n",
    "    input_tokens = tokenizer(TASK_PROMPT + example[\"text\"])[\"input_ids\"]\n",
    "    target_tokens = tokenizer(example[\"summary\"])[\"input_ids\"]\n",
    "    return {\n",
    "        \"input_truncated\": len(input_tokens) > MAX_INPUT_LENGTH,\n",
    "        \"target_truncated\": len(target_tokens) > MAX_TARGET_LENGTH\n",
    "    }\n",
    "\n",
    "# input_trunc_count = sum(truncation_stats[\"input_truncated\"])\n",
    "# target_trunc_count = sum(truncation_stats[\"target_truncated\"])"
   ]
  },
  {
   "cell_type": "markdown",
   "id": "f0626733",
   "metadata": {},
   "source": [
    "# TEST"
   ]
  },
  {
   "cell_type": "code",
   "execution_count": 23,
   "id": "06dbabf4",
   "metadata": {},
   "outputs": [],
   "source": [
    "from datasets import load_dataset\n",
    "\n",
    "raw = load_dataset(\"RussianNLP/Mixed-Summarization-Dataset\")\n",
    "raw = raw['test']"
   ]
  },
  {
   "cell_type": "code",
   "execution_count": null,
   "id": "f8fb08da",
   "metadata": {},
   "outputs": [],
   "source": [
    "import pandas as pd\n",
    "\n",
    "test = pd.read_csv(\"test_hand_instruct.csv\", sep=\"|\")"
   ]
  },
  {
   "cell_type": "code",
   "execution_count": 47,
   "id": "138136a9",
   "metadata": {},
   "outputs": [
    {
     "data": {
      "text/plain": [
       "count     258.000000\n",
       "mean      391.155039\n",
       "std       530.653572\n",
       "min        31.000000\n",
       "25%       195.500000\n",
       "50%       297.000000\n",
       "75%       435.250000\n",
       "max      6536.000000\n",
       "Name: text, dtype: float64"
      ]
     },
     "execution_count": 47,
     "metadata": {},
     "output_type": "execute_result"
    }
   ],
   "source": [
    "test[\"text\"].apply(lambda x: len(tokenizer(x, truncation=False)[\"input_ids\"])).describe()"
   ]
  },
  {
   "cell_type": "code",
   "execution_count": 48,
   "id": "bcb691c3",
   "metadata": {},
   "outputs": [
    {
     "data": {
      "text/plain": [
       "count     258.000000\n",
       "mean      145.341085\n",
       "std       189.769530\n",
       "min        20.000000\n",
       "25%        92.000000\n",
       "50%       116.500000\n",
       "75%       157.000000\n",
       "max      2810.000000\n",
       "Name: summary, dtype: float64"
      ]
     },
     "execution_count": 48,
     "metadata": {},
     "output_type": "execute_result"
    }
   ],
   "source": [
    "test[\"summary\"].apply(lambda x: len(tokenizer(x, truncation=False)[\"input_ids\"])).describe()"
   ]
  },
  {
   "cell_type": "code",
   "execution_count": 78,
   "id": "df323030",
   "metadata": {},
   "outputs": [
    {
     "data": {
      "application/vnd.jupyter.widget-view+json": {
       "model_id": "8c2e71cde9674eb5baa2dffcb0bd725c",
       "version_major": 2,
       "version_minor": 0
      },
      "text/plain": [
       "Filter:   0%|          | 0/258 [00:00<?, ? examples/s]"
      ]
     },
     "metadata": {},
     "output_type": "display_data"
    },
    {
     "data": {
      "application/vnd.jupyter.widget-view+json": {
       "model_id": "20484c589ec24e90868cc2164d49b1eb",
       "version_major": 2,
       "version_minor": 0
      },
      "text/plain": [
       "Map:   0%|          | 0/247 [00:00<?, ? examples/s]"
      ]
     },
     "metadata": {},
     "output_type": "display_data"
    }
   ],
   "source": [
    "from datasets import Dataset\n",
    "\n",
    "filtered_test = Dataset.from_pandas(test).filter(is_short_enough)\n",
    "\n",
    "def remove_instruction(example):\n",
    "    text = example['text']\n",
    "    return {'text': text.split('\\n', 1)[-1].strip()[1:-1]}\n",
    "filtered_test = filtered_test.map(remove_instruction)"
   ]
  },
  {
   "cell_type": "code",
   "execution_count": 81,
   "id": "ba21806f",
   "metadata": {},
   "outputs": [
    {
     "data": {
      "application/vnd.jupyter.widget-view+json": {
       "model_id": "23511f0bb3984758b5df2ad9f0e3592e",
       "version_major": 2,
       "version_minor": 0
      },
      "text/plain": [
       "Saving the dataset (0/1 shards):   0%|          | 0/247 [00:00<?, ? examples/s]"
      ]
     },
     "metadata": {},
     "output_type": "display_data"
    }
   ],
   "source": [
    "filtered_test.save_to_disk('filtered_test')"
   ]
  },
  {
   "cell_type": "markdown",
   "id": "fc8c4a14",
   "metadata": {},
   "source": [
    "# TRAIN"
   ]
  },
  {
   "cell_type": "code",
   "execution_count": null,
   "id": "14da9e93",
   "metadata": {},
   "outputs": [
    {
     "data": {
      "application/vnd.jupyter.widget-view+json": {
       "model_id": "ca19c4d0608d40d3ac55cbdd93219fb1",
       "version_major": 2,
       "version_minor": 0
      },
      "text/plain": [
       "Filter (num_proc=16):   0%|          | 0/229251 [00:00<?, ? examples/s]"
      ]
     },
     "metadata": {},
     "output_type": "display_data"
    }
   ],
   "source": [
    "# from datasets import load_from_disk\n",
    "\n",
    "# train = load_from_disk('combined_data')\n",
    "# train_filtered = train.filter(is_short_enough, num_proc=16)"
   ]
  },
  {
   "cell_type": "code",
   "execution_count": null,
   "id": "669b41c2",
   "metadata": {},
   "outputs": [
    {
     "data": {
      "application/vnd.jupyter.widget-view+json": {
       "model_id": "ac074053f1344a4db106267f74fd6a03",
       "version_major": 2,
       "version_minor": 0
      },
      "text/plain": [
       "Map (num_proc=16):   0%|          | 0/173138 [00:00<?, ? examples/s]"
      ]
     },
     "metadata": {},
     "output_type": "display_data"
    }
   ],
   "source": [
    "# def count(example):\n",
    "#     input_tokens = tokenizer(TASK_PROMPT + example[\"text\"])[\"input_ids\"]\n",
    "#     target_tokens = tokenizer(example[\"summary\"])[\"input_ids\"]\n",
    "#     source_words = len(example[\"text\"].split())\n",
    "#     target_words = len(example[\"summary\"].split())\n",
    "#     return {\n",
    "#         \"input_tokens\": len(input_tokens),\n",
    "#         \"target_tokens\": len(target_tokens),\n",
    "#         \"source_words\": source_words,\n",
    "#         \"target_words\": target_words,\n",
    "#     }\n",
    "# data_stats = train_filtered.map(count, num_proc=16)"
   ]
  },
  {
   "cell_type": "code",
   "execution_count": null,
   "id": "2be7ee5f",
   "metadata": {},
   "outputs": [],
   "source": [
    "# import evaluate\n",
    "# bertscore = evaluate.load(\"bertscore\")\n",
    "\n",
    "# def compute_bertscore_batch(batch):\n",
    "#     results = bertscore.compute(predictions=batch[\"summary\"],\n",
    "#                                 references=batch[\"text\"],\n",
    "#                                 lang=\"ru\", device=\"cuda:0\", batch_size=126)\n",
    "#     return {\"bertscore_f1\": results[\"f1\"], \"bertscore_precision\": results[\"precision\"], \"bertscore_recall\": results[\"recall\"]}\n",
    "# scored_dataset = train_filtered.map(compute_bertscore_batch, batched=True, batch_size=256)"
   ]
  },
  {
   "cell_type": "code",
   "execution_count": null,
   "id": "ee8373d5",
   "metadata": {},
   "outputs": [],
   "source": [
    "# import pandas as pd\n",
    "\n",
    "# df1 = pd.read_csv(\"bertscore40000.csv\")\n",
    "# df2 = pd.read_csv(\"bertscore80000.csv\")\n",
    "# df3 = pd.read_csv(\"bertscore120000.csv\")\n",
    "# df4 = pd.read_csv(\"bertscore173138.csv\")\n",
    "\n",
    "# df_ = pd.concat([df1, df2, df3, df4], ignore_index=True)\n",
    "# df_.drop(columns=[\"Unnamed: 0\", 'text', 'summary'], inplace=True)\n",
    "\n",
    "# df = pd.concat([pd.DataFrame(data_stats), df_], axis=1)\n",
    "# df.to_csv(\"data_stats.csv\")"
   ]
  },
  {
   "cell_type": "code",
   "execution_count": 17,
   "id": "592a2341",
   "metadata": {},
   "outputs": [],
   "source": [
    "import pandas as pd\n",
    "\n",
    "df = pd.read_csv(\"data_stats.csv\")"
   ]
  },
  {
   "cell_type": "code",
   "execution_count": 2,
   "id": "d6d19db4",
   "metadata": {},
   "outputs": [
    {
     "data": {
      "text/plain": [
       "(173138, 9)"
      ]
     },
     "execution_count": 2,
     "metadata": {},
     "output_type": "execute_result"
    }
   ],
   "source": [
    "df.shape"
   ]
  },
  {
   "cell_type": "code",
   "execution_count": 6,
   "id": "32bd241c",
   "metadata": {},
   "outputs": [],
   "source": [
    "dupes = df[df.duplicated('text', keep=False)].sort_values('text')\n",
    "# SEARCH FOR DUPLICATES\n",
    "for text, group in dupes.groupby('text'):\n",
    "    print(f\"\\n--- TEXT ---\\n{text[:300]}\")\n",
    "    print(\"--- SUMMARIES ---\")\n",
    "    for _, row in group.iterrows():\n",
    "        print(f\"- {row['bertscore_f1']:.4f} {row['summary']}\")\n"
   ]
  },
  {
   "cell_type": "code",
   "execution_count": 18,
   "id": "205a1558",
   "metadata": {},
   "outputs": [],
   "source": [
    "df = (\n",
    "    df.assign(summary_length=lambda d: d['target_words'])\n",
    "      .sort_values(by=['text', 'summary_length'], ascending=[True, False])\n",
    "      .drop_duplicates(subset='text', keep='first')\n",
    "      .drop(columns=['summary_length'])\n",
    ")"
   ]
  },
  {
   "cell_type": "code",
   "execution_count": 19,
   "id": "cc144d54",
   "metadata": {},
   "outputs": [],
   "source": [
    "df = (\n",
    "    df.assign(text_length=lambda d: d['source_words'])\n",
    "      .sort_values(by=['summary', 'text_length'], ascending=[True, False])\n",
    "      .drop_duplicates(subset='summary', keep='first')\n",
    "      .drop(columns=['text_length'])\n",
    ")"
   ]
  },
  {
   "cell_type": "code",
   "execution_count": 20,
   "id": "4f820d8c",
   "metadata": {},
   "outputs": [],
   "source": [
    "df.sort_index(inplace=True)"
   ]
  },
  {
   "cell_type": "code",
   "execution_count": 21,
   "id": "5e688763",
   "metadata": {},
   "outputs": [
    {
     "data": {
      "application/vnd.jupyter.widget-view+json": {
       "model_id": "d8b464c9608144afb0a649c415440467",
       "version_major": 2,
       "version_minor": 0
      },
      "text/plain": [
       "Map (num_proc=16):   0%|          | 0/171329 [00:00<?, ? examples/s]"
      ]
     },
     "metadata": {},
     "output_type": "display_data"
    }
   ],
   "source": [
    "from datasets import Dataset\n",
    "from langdetect import detect\n",
    "\n",
    "dataset = Dataset.from_pandas(df)\n",
    "dataset = dataset.map(lambda x: {\"lang\": detect(x[\"text\"])}, num_proc=16)"
   ]
  },
  {
   "cell_type": "code",
   "execution_count": 22,
   "id": "1cf1d80c",
   "metadata": {},
   "outputs": [],
   "source": [
    "df = dataset.to_pandas()"
   ]
  },
  {
   "cell_type": "code",
   "execution_count": 23,
   "id": "e90a023c",
   "metadata": {},
   "outputs": [],
   "source": [
    "df = df.reset_index()\n",
    "df.drop(columns=[\"__index_level_0__\"], inplace=True)"
   ]
  },
  {
   "cell_type": "code",
   "execution_count": 24,
   "id": "2cd09942",
   "metadata": {},
   "outputs": [],
   "source": [
    "df['compression_ratio_words'] = df['source_words'] / df['target_words']"
   ]
  },
  {
   "cell_type": "code",
   "execution_count": 25,
   "id": "d8d57bee",
   "metadata": {},
   "outputs": [],
   "source": [
    "df.to_csv(\"dedup_data.csv\", index=False)"
   ]
  },
  {
   "cell_type": "code",
   "execution_count": 26,
   "id": "1bcfb3c8",
   "metadata": {},
   "outputs": [
    {
     "data": {
      "text/plain": [
       "<Axes: >"
      ]
     },
     "execution_count": 26,
     "metadata": {},
     "output_type": "execute_result"
    },
    {
     "data": {
      "image/png": "[encoded data removed]",
      "text/plain": [
       "<Figure size 640x480 with 1 Axes>"
      ]
     },
     "metadata": {},
     "output_type": "display_data"
    }
   ],
   "source": [
    "df[df[\"compression_ratio_words\"]< 50][\"compression_ratio_words\"].hist(bins=200)"
   ]
  },
  {
   "cell_type": "code",
   "execution_count": 28,
   "id": "d7f22a2f",
   "metadata": {},
   "outputs": [
    {
     "data": {
      "text/plain": [
       "<Axes: >"
      ]
     },
     "execution_count": 28,
     "metadata": {},
     "output_type": "execute_result"
    },
    {
     "data": {
      "image/png": "[encoded data removed]",
      "text/plain": [
       "<Figure size 640x480 with 1 Axes>"
      ]
     },
     "metadata": {},
     "output_type": "display_data"
    }
   ],
   "source": [
    "df['bertscore_f1'].hist(bins=100)"
   ]
  },
  {
   "cell_type": "code",
   "execution_count": 49,
   "id": "3d681648",
   "metadata": {},
   "outputs": [
    {
     "data": {
      "text/plain": [
       "<Axes: >"
      ]
     },
     "execution_count": 49,
     "metadata": {},
     "output_type": "execute_result"
    },
    {
     "data": {
      "image/png": "[encoded data removed]",
      "text/plain": [
       "<Figure size 640x480 with 1 Axes>"
      ]
     },
     "metadata": {},
     "output_type": "display_data"
    }
   ],
   "source": [
    "df['target_words'].hist(bins=50)"
   ]
  },
  {
   "cell_type": "code",
   "execution_count": 41,
   "id": "46719b47",
   "metadata": {},
   "outputs": [
    {
     "data": {
      "text/plain": [
       "(69686, 12)"
      ]
     },
     "execution_count": 41,
     "metadata": {},
     "output_type": "execute_result"
    }
   ],
   "source": [
    "df1 = df[(df[\"bertscore_f1\"] > 0.65) & (10 < df[\"compression_ratio_words\"]) & (df[\"compression_ratio_words\"] < 30) & (df[\"target_words\"] >= 10) & (df[\"lang\"] == \"ru\")]\n",
    "df1.shape"
   ]
  },
  {
   "cell_type": "code",
   "execution_count": 47,
   "id": "e8e05609",
   "metadata": {},
   "outputs": [
    {
     "data": {
      "text/plain": [
       "<Axes: >"
      ]
     },
     "execution_count": 47,
     "metadata": {},
     "output_type": "execute_result"
    },
    {
     "data": {
      "image/png": "[encoded data removed]",
      "text/plain": [
       "<Figure size 640x480 with 1 Axes>"
      ]
     },
     "metadata": {},
     "output_type": "display_data"
    }
   ],
   "source": [
    "df1['target_words'].hist(bins=62)"
   ]
  },
  {
   "cell_type": "code",
   "execution_count": 53,
   "id": "809a075e",
   "metadata": {},
   "outputs": [
    {
     "data": {
      "text/plain": [
       "<Axes: >"
      ]
     },
     "execution_count": 53,
     "metadata": {},
     "output_type": "execute_result"
    },
    {
     "data": {
      "image/png": "[encoded data removed]",
      "text/plain": [
       "<Figure size 640x480 with 1 Axes>"
      ]
     },
     "metadata": {},
     "output_type": "display_data"
    }
   ],
   "source": [
    "df1['target_tokens'].hist(bins=50)"
   ]
  },
  {
   "cell_type": "code",
   "execution_count": 50,
   "id": "decd4a25",
   "metadata": {},
   "outputs": [],
   "source": [
    "df1.to_csv(\"filtered_dedup_data.csv\", index=False)"
   ]
  },
  {
   "cell_type": "code",
   "execution_count": 52,
   "id": "363989cd",
   "metadata": {},
   "outputs": [
    {
     "name": "stdout",
     "output_type": "stream",
     "text": [
      "59 Симптомы некоторых заболеваний, таких как экзема и псориаз, могут усугубляться от мыла и шампуней. В таких случаях используются шампуни, не содержащие мыла.  Многие считают, что шампунь способствует чрезмерной выработке кожного сала, в то время как шампунь, не содержащий мыльной основы, останавливает этот процесс. Это миф. Существует генетическая предрасположенность к выработке масла, которая совершенно не зависит от используемого вами шампуня.\n",
      "7 Решите, необходим ли вам шампунь без мыла.\n",
      "8.428571428571429\n"
     ]
    }
   ],
   "source": [
    "for i in df[(df[\"bertscore_f1\"] > 0.65) & (df[\"compression_ratio_words\"] < 20) & (df[\"lang\"] == \"ru\") & (df[\"target_words\"] < 10)].sample(1).iterrows():\n",
    "    print(i[1][\"source_words\"], i[1][\"text\"])\n",
    "    print(i[1][\"target_words\"], i[1][\"summary\"])\n",
    "    print(i[1][\"compression_ratio_words\"])"
   ]
  },
  {
   "cell_type": "code",
   "execution_count": 54,
   "id": "766087ec",
   "metadata": {},
   "outputs": [
    {
     "data": {
      "application/vnd.jupyter.widget-view+json": {
       "model_id": "676bb1f9e4cb410dbe6e2ff0c850c285",
       "version_major": 2,
       "version_minor": 0
      },
      "text/plain": [
       "Saving the dataset (0/1 shards):   0%|          | 0/69686 [00:00<?, ? examples/s]"
      ]
     },
     "metadata": {},
     "output_type": "display_data"
    }
   ],
   "source": [
    "from datasets import Dataset \n",
    "\n",
    "Dataset.from_pandas(df1).save_to_disk(\"filtered_dedup_data\")"
   ]
  },
  {
   "cell_type": "markdown",
   "id": "0c2261af",
   "metadata": {},
   "source": [
    "# Synthetic Summ"
   ]
  },
  {
   "cell_type": "code",
   "execution_count": null,
   "id": "ddf965e5",
   "metadata": {},
   "outputs": [],
   "source": [
    "# import pandas as pd\n",
    "# import json\n",
    "# with open('gpt/train_data.json', 'r') as fin:\n",
    "#     articles = [json.loads(s) for s in fin.readlines()]\n",
    "\n",
    "# df = pd.DataFrame(articles)\n",
    "\n",
    "# df[\"input_len\"] = df[\"input_ids\"].apply(lambda x: len(x))\n",
    "# print(df[\"input_len\"].describe())\n",
    "# df[\"input_len\"].hist(bins=50)\n",
    "\n",
    "# df['words'] = df['Text'].apply(lambda x: len(x.split()))\n",
    "# df[\"input_len\"] = df[\"Text\"].apply(lambda x: len(tokenizer(x)[\"input_ids\"]))\n",
    "# df[\"input_len\"].describe()"
   ]
  },
  {
   "cell_type": "code",
   "execution_count": null,
   "id": "5a59a927",
   "metadata": {},
   "outputs": [],
   "source": []
  },
  {
   "cell_type": "markdown",
   "id": "042444ee",
   "metadata": {},
   "source": [
    "# SEAHORSE"
   ]
  },
  {
   "cell_type": "code",
   "execution_count": null,
   "id": "6361e587",
   "metadata": {},
   "outputs": [],
   "source": [
    "from datasets import load_dataset, concatenate_datasets\n",
    "seahorse = load_dataset(\"hgissbkh/seahorse\")"
   ]
  },
  {
   "cell_type": "code",
   "execution_count": null,
   "id": "978111f5",
   "metadata": {},
   "outputs": [],
   "source": [
    "seahorse"
   ]
  },
  {
   "cell_type": "code",
   "execution_count": null,
   "id": "bed1105c",
   "metadata": {},
   "outputs": [],
   "source": [
    "QUESTION = \"conciseness\"\n",
    "LANGUAGES = [\"ru\", \"en\"]\n",
    "\n",
    "\n",
    "def filter_data(example):\n",
    "    if(example[QUESTION] == 0.5):\n",
    "        return False\n",
    "\n",
    "    example[QUESTION] = int(example[QUESTION])\n",
    "    return example['lang'] in LANGUAGES #and len(example['summary']) > 15\n",
    "\n",
    "seahorse_f = seahorse.filter(filter_data)"
   ]
  },
  {
   "cell_type": "code",
   "execution_count": null,
   "id": "5a037147",
   "metadata": {},
   "outputs": [],
   "source": [
    "full = concatenate_datasets([seahorse_f[\"train\"], seahorse_f[\"validation\"], seahorse_f[\"test\"]])"
   ]
  },
  {
   "cell_type": "code",
   "execution_count": null,
   "id": "cc3ea9df",
   "metadata": {},
   "outputs": [],
   "source": [
    "# full = full.map(lambda x: {\"len\": len(tokenizer(x[\"summary\"])[\"input_ids\"])})\n",
    "\n",
    "# import pandas as pd \n",
    "\n",
    "# df = pd.DataFrame(full)\n",
    "\n",
    "# print(df[\"len\"].describe())\n",
    "\n",
    "# df[\"len\"].hist(bins=20)"
   ]
  },
  {
   "cell_type": "code",
   "execution_count": null,
   "id": "f4f42c85",
   "metadata": {},
   "outputs": [],
   "source": [
    "from transformers import AutoTokenizer\n",
    "\n",
    "tokenizer = AutoTokenizer.from_pretrained(\"ai-forever/ruT5-base\")\n",
    "FORMAT = \"тест:\\n {} саммари:\\n {}\"\n",
    "\n",
    "def preprocess(examples):\n",
    "    inputs = [FORMAT.format(article, summary)\n",
    "              for article, summary in zip(examples['text'], examples['summary'])]\n",
    "    tokenized = tokenizer(inputs, truncation=False)[\"input_ids\"]\n",
    "    return {\"input_ids\": tokenized}\n",
    "\n",
    "\n",
    "seahorse_f = seahorse_f.map(preprocess, batched=True, num_proc=16)"
   ]
  },
  {
   "cell_type": "code",
   "execution_count": null,
   "id": "24fe5229",
   "metadata": {},
   "outputs": [],
   "source": [
    "full = concatenate_datasets([seahorse_f[\"train\"], seahorse_f[\"validation\"], seahorse_f[\"test\"]])"
   ]
  },
  {
   "cell_type": "code",
   "execution_count": null,
   "id": "54002c1c",
   "metadata": {},
   "outputs": [],
   "source": [
    "import pandas as pd\n",
    "\n",
    "df = pd.DataFrame(full)"
   ]
  },
  {
   "cell_type": "code",
   "execution_count": null,
   "id": "109aad44",
   "metadata": {},
   "outputs": [],
   "source": [
    "df['sum_len'] = df['summary'].apply(len)"
   ]
  },
  {
   "cell_type": "code",
   "execution_count": null,
   "id": "ad3e5a10",
   "metadata": {},
   "outputs": [],
   "source": [
    "df['sum_len'].describe()"
   ]
  },
  {
   "cell_type": "code",
   "execution_count": null,
   "id": "65207e2e",
   "metadata": {},
   "outputs": [],
   "source": [
    "from nltk.tokenize import word_tokenize\n",
    "df['sum_words'] = df['summary'].apply(lambda x: len([token for token in word_tokenize(x) if token.isalpha()]))"
   ]
  },
  {
   "cell_type": "code",
   "execution_count": null,
   "id": "bc85e12a",
   "metadata": {},
   "outputs": [],
   "source": [
    "df['sum_words'].describe()"
   ]
  },
  {
   "cell_type": "code",
   "execution_count": null,
   "id": "0742effc",
   "metadata": {},
   "outputs": [],
   "source": [
    "df[df.duplicated([\"text\", \"summary\"], keep=False)].sort_values(\"summary\")"
   ]
  },
  {
   "cell_type": "code",
   "execution_count": null,
   "id": "4793dde7",
   "metadata": {},
   "outputs": [],
   "source": [
    "print(df[QUESTION].value_counts())\n",
    "df[QUESTION].value_counts().plot(kind='bar')"
   ]
  }
 ],
 "metadata": {
  "kernelspec": {
   "display_name": ".venv",
   "language": "python",
   "name": "python3"
  },
  "language_info": {
   "codemirror_mode": {
    "name": "ipython",
    "version": 3
   },
   "file_extension": ".py",
   "mimetype": "text/x-python",
   "name": "python",
   "nbconvert_exporter": "python",
   "pygments_lexer": "ipython3",
   "version": "3.10.12"
  }
 },
 "nbformat": 4,
 "nbformat_minor": 5
}
