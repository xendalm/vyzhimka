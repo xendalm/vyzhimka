{
 "cells": [
  {
   "cell_type": "code",
   "execution_count": 1,
   "id": "4c2b4b45",
   "metadata": {},
   "outputs": [],
   "source": [
    "from datasets import load_dataset, concatenate_datasets"
   ]
  },
  {
   "cell_type": "code",
   "execution_count": 17,
   "id": "7eb24ac9",
   "metadata": {},
   "outputs": [],
   "source": [
    "import numpy as np\n",
    "\n",
    "def get_stats(data):\n",
    "    words_num = data.map(lambda x: {\"text_words_num\": len(x[\"text\"].split()), \"summary_words_num\": len(x[\"summary\"].split())})\n",
    "    avg_words_num_text = np.mean(words_num[\"text_words_num\"])\n",
    "    avg_words_num_summary = np.mean(words_num[\"summary_words_num\"])\n",
    "\n",
    "    return avg_words_num_text, avg_words_num_summary"
   ]
  },
  {
   "cell_type": "code",
   "execution_count": 18,
   "id": "1a7811b2",
   "metadata": {},
   "outputs": [
    {
     "name": "stdout",
     "output_type": "stream",
     "text": [
      "27063\n"
     ]
    },
    {
     "data": {
      "text/plain": [
       "(790.2411040904556, 12.775006466393231)"
      ]
     },
     "execution_count": 18,
     "metadata": {},
     "output_type": "execute_result"
    }
   ],
   "source": [
    "data1 = load_dataset(\"reciTAL/mlsum\", 'ru')\n",
    "\n",
    "full_data1 = concatenate_datasets([\n",
    "    data1[\"train\"],\n",
    "    data1[\"validation\"],\n",
    "    data1[\"test\"]\n",
    "])\n",
    "full_data1 = full_data1.remove_columns(['topic', 'url', 'title', 'date'])\n",
    "print(len(full_data1))\n",
    "\n",
    "get_stats(full_data1)"
   ]
  },
  {
   "cell_type": "code",
   "execution_count": 19,
   "id": "c5281fc6",
   "metadata": {},
   "outputs": [
    {
     "name": "stdout",
     "output_type": "stream",
     "text": [
      "74126\n"
     ]
    },
    {
     "data": {
      "text/plain": [
       "(628.2115721878963, 42.660550953781396)"
      ]
     },
     "execution_count": 19,
     "metadata": {},
     "output_type": "execute_result"
    }
   ],
   "source": [
    "data2 = load_dataset(\"IlyaGusev/gazeta\")\n",
    "\n",
    "full_data2 = concatenate_datasets([\n",
    "    data2[\"train\"],\n",
    "    data2[\"validation\"],\n",
    "    data2[\"test\"]\n",
    "])\n",
    "full_data2 = full_data2.remove_columns(['title', 'date', 'url'])\n",
    "print(len(full_data2))\n",
    "\n",
    "get_stats(full_data2)"
   ]
  },
  {
   "cell_type": "code",
   "execution_count": 20,
   "id": "f56eb993",
   "metadata": {},
   "outputs": [
    {
     "name": "stdout",
     "output_type": "stream",
     "text": [
      "77803\n"
     ]
    },
    {
     "data": {
      "text/plain": [
       "(547.6641132090023, 25.173039600015425)"
      ]
     },
     "execution_count": 20,
     "metadata": {},
     "output_type": "execute_result"
    }
   ],
   "source": [
    "data3 = load_dataset(\"csebuetnlp/xlsum\", \"russian\")\n",
    "\n",
    "full_data3 = concatenate_datasets([\n",
    "    data3[\"train\"],\n",
    "    data3[\"test\"],\n",
    "    data3[\"validation\"]\n",
    "])\n",
    "full_data3 = full_data3.remove_columns(['id', 'url', 'title'])\n",
    "print(len(full_data3))\n",
    "\n",
    "get_stats(full_data3)"
   ]
  },
  {
   "cell_type": "code",
   "execution_count": 21,
   "id": "c6310948",
   "metadata": {},
   "outputs": [
    {
     "name": "stdout",
     "output_type": "stream",
     "text": [
      "50259\n"
     ]
    },
    {
     "data": {
      "text/plain": [
       "(321.91860164348674, 27.94172188065819)"
      ]
     },
     "execution_count": 21,
     "metadata": {},
     "output_type": "execute_result"
    }
   ],
   "source": [
    "data4 = load_dataset(\"GEM/wiki_lingua\", \"ru\")\n",
    "\n",
    "full_data4 = concatenate_datasets([\n",
    "    data4[\"train\"],\n",
    "    data4[\"validation\"],\n",
    "    data4[\"test\"]\n",
    "])\n",
    "full_data4 = full_data4.remove_columns(['gem_id', 'gem_parent_id', 'source_language', 'target_language', 'references'])\n",
    "full_data4 = full_data4.rename_columns({\"source\": \"text\", \"target\": \"summary\"})\n",
    "print(len(full_data4))\n",
    "\n",
    "get_stats(full_data4)"
   ]
  },
  {
   "cell_type": "code",
   "execution_count": null,
   "id": "e86952d5",
   "metadata": {},
   "outputs": [
    {
     "data": {
      "application/vnd.jupyter.widget-view+json": {
       "model_id": "bebcab6aa18f49958d366009a53c1fd8",
       "version_major": 2,
       "version_minor": 0
      },
      "text/plain": [
       "Saving the dataset (0/4 shards):   0%|          | 0/229251 [00:00<?, ? examples/s]"
      ]
     },
     "metadata": {},
     "output_type": "display_data"
    }
   ],
   "source": [
    "combined_data = concatenate_datasets([full_data1, full_data2, full_data3, full_data4])\n",
    "combined_data.save_to_disk(\"../data/combined_data\")"
   ]
  },
  {
   "cell_type": "code",
   "execution_count": 17,
   "id": "d8c33f44",
   "metadata": {},
   "outputs": [],
   "source": [
    "from transformers import AutoTokenizer\n",
    "tokenizer = AutoTokenizer.from_pretrained(\"ai-forever/FRED-T5-large\")\n",
    "\n",
    "MAX_INPUT_LENGTH = 1024\n",
    "MAX_TARGET_LENGTH = 300\n",
    "TASK_PROMPT = \"<LM> Сократи текст: \"\n",
    "\n",
    "def is_short_enough(example):\n",
    "    text_tokens = tokenizer(\n",
    "        TASK_PROMPT + example[\"text\"],\n",
    "        truncation=False,\n",
    "    )[\"input_ids\"]\n",
    "\n",
    "    summary_tokens = tokenizer(\n",
    "        example[\"summary\"],\n",
    "        truncation=False,\n",
    "    )[\"input_ids\"]\n",
    "\n",
    "    return len(text_tokens) < MAX_INPUT_LENGTH and len(summary_tokens) < MAX_TARGET_LENGTH\n",
    "\n",
    "def count_truncations(example):\n",
    "    input_tokens = tokenizer(TASK_PROMPT + example[\"text\"])[\"input_ids\"]\n",
    "    target_tokens = tokenizer(example[\"summary\"])[\"input_ids\"]\n",
    "    return {\n",
    "        \"input_truncated\": len(input_tokens) > MAX_INPUT_LENGTH,\n",
    "        \"target_truncated\": len(target_tokens) > MAX_TARGET_LENGTH\n",
    "    }\n",
    "\n",
    "# input_trunc_count = sum(truncation_stats[\"input_truncated\"])\n",
    "# target_trunc_count = sum(truncation_stats[\"target_truncated\"])"
   ]
  },
  {
   "cell_type": "markdown",
   "id": "f0626733",
   "metadata": {},
   "source": [
    "# TEST"
   ]
  },
  {
   "cell_type": "code",
   "execution_count": 2,
   "id": "06dbabf4",
   "metadata": {},
   "outputs": [],
   "source": [
    "from datasets import load_dataset\n",
    "\n",
    "raw = load_dataset(\"RussianNLP/Mixed-Summarization-Dataset\")\n",
    "raw = raw['test']"
   ]
  },
  {
   "cell_type": "code",
   "execution_count": 24,
   "id": "f8fb08da",
   "metadata": {},
   "outputs": [],
   "source": [
    "import pandas as pd\n",
    "\n",
    "test = pd.read_csv(\"../data/test_hand_instruct.csv\", sep=\"|\")"
   ]
  },
  {
   "cell_type": "code",
   "execution_count": 35,
   "id": "2b79fd61",
   "metadata": {},
   "outputs": [],
   "source": [
    "test[\"source_words\"] = test[\"text\"].apply(lambda x: len([token for token in word_tokenize(x, language='russian') if token.isalpha()]))\n",
    "test[\"target_words\"] = test[\"summary\"].apply(lambda x: len([token for token in word_tokenize(x, language='russian') if token.isalpha()]))"
   ]
  },
  {
   "cell_type": "code",
   "execution_count": 39,
   "id": "138136a9",
   "metadata": {},
   "outputs": [
    {
     "data": {
      "text/plain": [
       "<Axes: >"
      ]
     },
     "execution_count": 39,
     "metadata": {},
     "output_type": "execute_result"
    },
    {
     "data": {
      "image/png": "[encoded data removed]",
      "text/plain": [
       "<Figure size 640x480 with 1 Axes>"
      ]
     },
     "metadata": {},
     "output_type": "display_data"
    }
   ],
   "source": [
    "test[test[\"source_words\"]<1000][\"source_words\"].hist(bins=50)"
   ]
  },
  {
   "cell_type": "code",
   "execution_count": 40,
   "id": "bcb691c3",
   "metadata": {},
   "outputs": [
    {
     "data": {
      "text/plain": [
       "<Axes: >"
      ]
     },
     "execution_count": 40,
     "metadata": {},
     "output_type": "execute_result"
    },
    {
     "data": {
      "image/png": "[encoded data removed]",
      "text/plain": [
       "<Figure size 640x480 with 1 Axes>"
      ]
     },
     "metadata": {},
     "output_type": "display_data"
    }
   ],
   "source": [
    "test[test[\"target_words\"]<200][\"target_words\"].hist(bins=50)"
   ]
  },
  {
   "cell_type": "code",
   "execution_count": 6,
   "id": "df323030",
   "metadata": {},
   "outputs": [
    {
     "data": {
      "application/vnd.jupyter.widget-view+json": {
       "model_id": "0fbd665b2cc54a97b6a6bcce7a7b71ef",
       "version_major": 2,
       "version_minor": 0
      },
      "text/plain": [
       "Filter:   0%|          | 0/258 [00:00<?, ? examples/s]"
      ]
     },
     "metadata": {},
     "output_type": "display_data"
    },
    {
     "data": {
      "application/vnd.jupyter.widget-view+json": {
       "model_id": "b6a4f1c545204d24adf5ad71bc6e6b42",
       "version_major": 2,
       "version_minor": 0
      },
      "text/plain": [
       "Map:   0%|          | 0/247 [00:00<?, ? examples/s]"
      ]
     },
     "metadata": {},
     "output_type": "display_data"
    }
   ],
   "source": [
    "from datasets import Dataset\n",
    "\n",
    "filtered_test = Dataset.from_pandas(test).filter(is_short_enough)\n",
    "\n",
    "def remove_instruction(example):\n",
    "    text = example['text']\n",
    "    return {'text': text.split('\\n', 1)[-1].strip()[1:-1]}\n",
    "filtered_test = filtered_test.map(remove_instruction)"
   ]
  },
  {
   "cell_type": "code",
   "execution_count": null,
   "id": "ba21806f",
   "metadata": {},
   "outputs": [
    {
     "data": {
      "application/vnd.jupyter.widget-view+json": {
       "model_id": "5874a92242984d04843680d7990cb920",
       "version_major": 2,
       "version_minor": 0
      },
      "text/plain": [
       "Saving the dataset (0/1 shards):   0%|          | 0/247 [00:00<?, ? examples/s]"
      ]
     },
     "metadata": {},
     "output_type": "display_data"
    }
   ],
   "source": [
    "filtered_test.save_to_disk('../data/filtered_test')"
   ]
  },
  {
   "cell_type": "markdown",
   "id": "fc8c4a14",
   "metadata": {},
   "source": [
    "# TRAIN"
   ]
  },
  {
   "cell_type": "code",
   "execution_count": null,
   "id": "14da9e93",
   "metadata": {},
   "outputs": [],
   "source": [
    "from datasets import load_from_disk\n",
    "\n",
    "train = load_from_disk('../data/combined_data')\n",
    "train_filtered = train.filter(is_short_enough, num_proc=16)"
   ]
  },
  {
   "cell_type": "code",
   "execution_count": 18,
   "id": "669b41c2",
   "metadata": {},
   "outputs": [],
   "source": [
    "from nltk.tokenize import word_tokenize\n",
    "\n",
    "def count(example):\n",
    "    input_tokens = tokenizer(TASK_PROMPT + example[\"text\"])[\"input_ids\"]\n",
    "    target_tokens = tokenizer(example[\"summary\"])[\"input_ids\"]\n",
    "    source_words = len([token for token in word_tokenize(example['text'], language='russian') if token.isalpha()])\n",
    "    target_words = len([token for token in word_tokenize(example['summary'], language='russian') if token.isalpha()])\n",
    "    return {\n",
    "        \"input_tokens\": len(input_tokens),\n",
    "        \"target_tokens\": len(target_tokens),\n",
    "        \"source_words\": source_words,\n",
    "        \"target_words\": target_words,\n",
    "    }\n",
    "# data_stats = train_filtered.map(count, num_proc=16)"
   ]
  },
  {
   "cell_type": "code",
   "execution_count": null,
   "id": "2be7ee5f",
   "metadata": {},
   "outputs": [],
   "source": [
    "# import evaluate\n",
    "# bertscore = evaluate.load(\"bertscore\")\n",
    "\n",
    "# def compute_bertscore_batch(batch):\n",
    "#     results = bertscore.compute(predictions=batch[\"summary\"],\n",
    "#                                 references=batch[\"text\"],\n",
    "#                                 lang=\"ru\", device=\"cuda:0\", batch_size=126)\n",
    "#     return {\"bertscore_f1\": results[\"f1\"], \"bertscore_precision\": results[\"precision\"], \"bertscore_recall\": results[\"recall\"]}\n",
    "# scored_dataset = train_filtered.map(compute_bertscore_batch, batched=True, batch_size=256)"
   ]
  },
  {
   "cell_type": "code",
   "execution_count": null,
   "id": "ee8373d5",
   "metadata": {},
   "outputs": [],
   "source": [
    "# import pandas as pd\n",
    "\n",
    "# df1 = pd.read_csv(\"../data/bertscore40000.csv\")\n",
    "# df2 = pd.read_csv(\"../data/bertscore80000.csv\")\n",
    "# df3 = pd.read_csv(\"../data/bertscore120000.csv\")\n",
    "# df4 = pd.read_csv(\"../data/bertscore173138.csv\")\n",
    "\n",
    "# df_ = pd.concat([df1, df2, df3, df4], ignore_index=True)\n",
    "# df_.drop(columns=[\"Unnamed: 0\", 'text', 'summary'], inplace=True)\n",
    "\n",
    "# df = pd.concat([pd.DataFrame(data_stats), df_], axis=1)\n",
    "# df.to_csv(\"../data/data_stats.csv\")"
   ]
  },
  {
   "cell_type": "code",
   "execution_count": 29,
   "id": "592a2341",
   "metadata": {},
   "outputs": [],
   "source": [
    "import pandas as pd\n",
    "\n",
    "df = pd.read_csv(\"../data/data_stats.csv\")"
   ]
  },
  {
   "cell_type": "code",
   "execution_count": 30,
   "id": "d6d19db4",
   "metadata": {},
   "outputs": [
    {
     "data": {
      "text/plain": [
       "(173138, 10)"
      ]
     },
     "execution_count": 30,
     "metadata": {},
     "output_type": "execute_result"
    }
   ],
   "source": [
    "# df_ = pd.concat([df1, df2, df3, df4], ignore_index=True)\n",
    "# for i in range(len(df)):\n",
    "#     assert df.iloc[i]['summary'] == df_.iloc[i]['summary'], f\"{i}\"\n",
    "df.shape"
   ]
  },
  {
   "cell_type": "code",
   "execution_count": 35,
   "id": "32bd241c",
   "metadata": {},
   "outputs": [],
   "source": [
    "dupes = df[df.duplicated('text', keep=False)].sort_values('text')\n",
    "# SEARCH FOR DUPLICATES\n",
    "for text, group in dupes.groupby('text'):\n",
    "    print(f\"\\n--- TEXT ---\\n{text[:300]}\")\n",
    "    print(\"--- SUMMARIES ---\")\n",
    "    for _, row in group.iterrows():\n",
    "        print(f\"- {row['bertscore_f1']:.4f} {row['summary']}\")\n"
   ]
  },
  {
   "cell_type": "code",
   "execution_count": 32,
   "id": "205a1558",
   "metadata": {},
   "outputs": [],
   "source": [
    "df = (\n",
    "    df.assign(summary_length=lambda d: d['target_words'])\n",
    "      .sort_values(by=['text', 'summary_length'], ascending=[True, False])\n",
    "      .drop_duplicates(subset='text', keep='first')\n",
    "      .drop(columns=['summary_length'])\n",
    ")"
   ]
  },
  {
   "cell_type": "code",
   "execution_count": 33,
   "id": "cc144d54",
   "metadata": {},
   "outputs": [],
   "source": [
    "df = (\n",
    "    df.assign(text_length=lambda d: d['source_words'])\n",
    "      .sort_values(by=['summary', 'text_length'], ascending=[True, False])\n",
    "      .drop_duplicates(subset='summary', keep='first')\n",
    "      .drop(columns=['text_length'])\n",
    ")"
   ]
  },
  {
   "cell_type": "code",
   "execution_count": 34,
   "id": "4f820d8c",
   "metadata": {},
   "outputs": [],
   "source": [
    "df.sort_index(inplace=True)"
   ]
  },
  {
   "cell_type": "code",
   "execution_count": 36,
   "id": "5e688763",
   "metadata": {},
   "outputs": [
    {
     "data": {
      "application/vnd.jupyter.widget-view+json": {
       "model_id": "9c6d49b4209445caa27172e984d45b19",
       "version_major": 2,
       "version_minor": 0
      },
      "text/plain": [
       "Map (num_proc=20):   0%|          | 0/171329 [00:00<?, ? examples/s]"
      ]
     },
     "metadata": {},
     "output_type": "display_data"
    }
   ],
   "source": [
    "from datasets import Dataset\n",
    "from langdetect import detect\n",
    "\n",
    "dataset = Dataset.from_pandas(df)\n",
    "dataset = dataset.map(lambda x: {\"lang\": detect(x[\"text\"])}, num_proc=20)"
   ]
  },
  {
   "cell_type": "code",
   "execution_count": 37,
   "id": "1cf1d80c",
   "metadata": {},
   "outputs": [],
   "source": [
    "df = dataset.to_pandas()"
   ]
  },
  {
   "cell_type": "code",
   "execution_count": 38,
   "id": "e90a023c",
   "metadata": {},
   "outputs": [],
   "source": [
    "df = df.reset_index()\n",
    "df.drop(columns=[\"__index_level_0__\"], inplace=True)"
   ]
  },
  {
   "cell_type": "code",
   "execution_count": 39,
   "id": "2cd09942",
   "metadata": {},
   "outputs": [],
   "source": [
    "df['compression_ratio_words'] = df['target_words'] / df['source_words']"
   ]
  },
  {
   "cell_type": "code",
   "execution_count": null,
   "id": "d8d57bee",
   "metadata": {},
   "outputs": [],
   "source": [
    "# df.to_csv(\"../data/dedup_data.csv\", index=False)"
   ]
  },
  {
   "cell_type": "code",
   "execution_count": 54,
   "id": "1bcfb3c8",
   "metadata": {},
   "outputs": [
    {
     "data": {
      "text/plain": [
       "<Axes: >"
      ]
     },
     "execution_count": 54,
     "metadata": {},
     "output_type": "execute_result"
    },
    {
     "data": {
      "image/png": "[encoded data removed]",
      "text/plain": [
       "<Figure size 640x480 with 1 Axes>"
      ]
     },
     "metadata": {},
     "output_type": "display_data"
    }
   ],
   "source": [
    "df[df[\"compression_ratio_words\"]<0.5][\"compression_ratio_words\"].hist(bins=100)"
   ]
  },
  {
   "cell_type": "code",
   "execution_count": 46,
   "id": "d7f22a2f",
   "metadata": {},
   "outputs": [
    {
     "data": {
      "text/plain": [
       "<Axes: >"
      ]
     },
     "execution_count": 46,
     "metadata": {},
     "output_type": "execute_result"
    },
    {
     "data": {
      "image/png": "[encoded data removed]",
      "text/plain": [
       "<Figure size 640x480 with 1 Axes>"
      ]
     },
     "metadata": {},
     "output_type": "display_data"
    }
   ],
   "source": [
    "df['bertscore_f1'].hist(bins=100)"
   ]
  },
  {
   "cell_type": "code",
   "execution_count": 47,
   "id": "3d681648",
   "metadata": {},
   "outputs": [
    {
     "data": {
      "text/plain": [
       "<Axes: >"
      ]
     },
     "execution_count": 47,
     "metadata": {},
     "output_type": "execute_result"
    },
    {
     "data": {
      "image/png": "[encoded data removed]",
      "text/plain": [
       "<Figure size 640x480 with 1 Axes>"
      ]
     },
     "metadata": {},
     "output_type": "display_data"
    }
   ],
   "source": [
    "df['target_words'].hist(bins=50)"
   ]
  },
  {
   "cell_type": "code",
   "execution_count": 21,
   "id": "9d6b0dbd",
   "metadata": {},
   "outputs": [
    {
     "name": "stdout",
     "output_type": "stream",
     "text": [
      "246 На волнах Радио Ватикана прозвучали цитаты из речи Папы. В частности, он назвал насилие над детьми \"моральным разрушительным ударом, нанесенным служителями церкви\", и заверил, что последуют санкции. По мнению многих, это самое жесткое заявление понтифика на эту тему с момента его восхождения на престол. В марте папа горячо доказывал, что Римская католическая церковь преуспела в борьбе с сексуальными домогательствами священников. \"Никто не сделал больше в деле борьбы с сексуальным насилием над детьми. При этом церковь единственная, кто подвергается нападкам\", - сказал тогда понтифик. Это была реакция на критику со стороны ООН. В своем докладе Организация Объединенных Наций обвинила Ватикан в систематическом покрывании педофилов ради сохранения репутации церкви. \"Быть жестче\" В прошлом году по инициативе Папы Римского была создана специальная комиссия для оказания помощи жертвам сексуального насилия. Однако многие католики посчитали этот шаг Франциска недостаточным, сообщает из Рима корреспондент Би-би-си Дэвид Уилли. С осуждающим заявлением Папа выступил в пятницу в ходе встречи с представителями неправительственной организации помощи детям-католикам. Он сказал, что считает своим долгом лично попросить прощение за действие служителей церкви. \"Мы не будем долго раздумывать над тем, как решить эту проблему. Санкции должны последовать непременно. Сейчас нам надо быть еще жестче\", - сказал Папа. В адрес священников католической церкви было выдвинуто немало обвинений в сексуальных домогательствах детей по всему миру. А епископов часто обвиняют в том, что они не принимают никаких мер для наказания своих подчиненных. В начале этого года Папа Франциск внес поправки в законы Ватикана о насилии над детьми, расширив понятия того, что следует считать преступлениями против несовершеннолетних.\n",
      "15 Папа Франциск попросил прощения за вред, нанесенный детям священниками католической церкви, уличенными в сексуальных домогательствах.\n",
      "16.4\n"
     ]
    }
   ],
   "source": [
    "for i in df[(df[\"bertscore_f1\"] > 0.65) & (df[\"compression_ratio_words\"] > 10) & (df[\"compression_ratio_words\"] < 30) & (df[\"lang\"] == \"ru\") & (df[\"target_words\"] < 20)].sample(1).iterrows():\n",
    "    print(i[1][\"source_words\"], i[1][\"text\"])\n",
    "    print(i[1][\"target_words\"], i[1][\"summary\"])\n",
    "    print(i[1][\"compression_ratio_words\"])"
   ]
  },
  {
   "cell_type": "code",
   "execution_count": 81,
   "id": "a00264ef",
   "metadata": {},
   "outputs": [
    {
     "data": {
      "text/plain": [
       "(45695, 13)"
      ]
     },
     "execution_count": 81,
     "metadata": {},
     "output_type": "execute_result"
    }
   ],
   "source": [
    "# df1 = df[(df[\"bertscore_f1\"] > 0.65) & (df[\"compression_ratio_words\"] > 10) & (df[\"compression_ratio_words\"] < 30) & (df[\"target_words\"] >= 20) & (df[\"lang\"] == \"ru\")]\n",
    "df1 = df[(df[\"bertscore_f1\"] > 0.65) & (df[\"compression_ratio_words\"] > 0.09) & (df[\"compression_ratio_words\"] < 0.6) & (df[\"target_words\"] >= 20) & (df[\"lang\"] == \"ru\")]\n",
    "df1.shape"
   ]
  },
  {
   "cell_type": "code",
   "execution_count": 111,
   "id": "3e946267",
   "metadata": {},
   "outputs": [
    {
     "data": {
      "text/plain": [
       "<Axes: >"
      ]
     },
     "execution_count": 111,
     "metadata": {},
     "output_type": "execute_result"
    },
    {
     "data": {
      "image/png": "[encoded data removed]",
      "text/plain": [
       "<Figure size 640x480 with 1 Axes>"
      ]
     },
     "metadata": {},
     "output_type": "display_data"
    }
   ],
   "source": [
    "df1['compression_ratio_words'].hist(bins=50)"
   ]
  },
  {
   "cell_type": "code",
   "execution_count": 84,
   "id": "2dcf9b4f",
   "metadata": {},
   "outputs": [
    {
     "data": {
      "text/plain": [
       "<Axes: >"
      ]
     },
     "execution_count": 84,
     "metadata": {},
     "output_type": "execute_result"
    },
    {
     "data": {
      "image/png": "[encoded data removed]",
      "text/plain": [
       "<Figure size 640x480 with 1 Axes>"
      ]
     },
     "metadata": {},
     "output_type": "display_data"
    }
   ],
   "source": [
    "df1['source_words'].hist(bins=50)"
   ]
  },
  {
   "cell_type": "code",
   "execution_count": 82,
   "id": "e8e05609",
   "metadata": {},
   "outputs": [
    {
     "data": {
      "text/plain": [
       "<Axes: >"
      ]
     },
     "execution_count": 82,
     "metadata": {},
     "output_type": "execute_result"
    },
    {
     "data": {
      "image/png": "[encoded data removed]",
      "text/plain": [
       "<Figure size 640x480 with 1 Axes>"
      ]
     },
     "metadata": {},
     "output_type": "display_data"
    }
   ],
   "source": [
    "df1['target_words'].hist(bins=50)"
   ]
  },
  {
   "cell_type": "code",
   "execution_count": 72,
   "id": "809a075e",
   "metadata": {},
   "outputs": [
    {
     "data": {
      "text/plain": [
       "<Axes: >"
      ]
     },
     "execution_count": 72,
     "metadata": {},
     "output_type": "execute_result"
    },
    {
     "data": {
      "image/png": "[encoded data removed]",
      "text/plain": [
       "<Figure size 640x480 with 1 Axes>"
      ]
     },
     "metadata": {},
     "output_type": "display_data"
    }
   ],
   "source": [
    "df1['target_tokens'].hist(bins=50)"
   ]
  },
  {
   "cell_type": "code",
   "execution_count": 25,
   "id": "c4766bff",
   "metadata": {},
   "outputs": [
    {
     "data": {
      "text/plain": [
       "<Axes: >"
      ]
     },
     "execution_count": 25,
     "metadata": {},
     "output_type": "execute_result"
    },
    {
     "data": {
      "image/png": "[encoded data removed]",
      "text/plain": [
       "<Figure size 640x480 with 1 Axes>"
      ]
     },
     "metadata": {},
     "output_type": "display_data"
    }
   ],
   "source": [
    "df1['input_tokens'].hist(bins=50)"
   ]
  },
  {
   "cell_type": "code",
   "execution_count": 86,
   "id": "decd4a25",
   "metadata": {},
   "outputs": [],
   "source": [
    "df1.to_csv(\"../data/filtered_dedup_data.csv\", index=False)"
   ]
  },
  {
   "cell_type": "code",
   "execution_count": 87,
   "id": "766087ec",
   "metadata": {},
   "outputs": [
    {
     "data": {
      "application/vnd.jupyter.widget-view+json": {
       "model_id": "e1b222d04b8d492d96865483a3cc22b9",
       "version_major": 2,
       "version_minor": 0
      },
      "text/plain": [
       "Saving the dataset (0/1 shards):   0%|          | 0/45695 [00:00<?, ? examples/s]"
      ]
     },
     "metadata": {},
     "output_type": "display_data"
    }
   ],
   "source": [
    "from datasets import Dataset \n",
    "\n",
    "Dataset.from_pandas(df1).save_to_disk(\"../data/filtered_dedup_data\")"
   ]
  },
  {
   "cell_type": "code",
   "execution_count": 1,
   "id": "73a30a09",
   "metadata": {},
   "outputs": [
    {
     "data": {
      "text/plain": [
       "Dataset({\n",
       "    features: ['index', 'Unnamed: 0', 'text', 'summary', 'input_tokens', 'target_tokens', 'source_words', 'target_words', 'bertscore_f1', 'bertscore_precision', 'bertscore_recall', 'lang', 'compression_ratio_words', '__index_level_0__'],\n",
       "    num_rows: 45695\n",
       "})"
      ]
     },
     "execution_count": 1,
     "metadata": {},
     "output_type": "execute_result"
    }
   ],
   "source": [
    "from datasets import load_from_disk\n",
    "\n",
    "load_from_disk('../data/filtered_dedup_data')"
   ]
  },
  {
   "cell_type": "markdown",
   "id": "0c2261af",
   "metadata": {},
   "source": [
    "# Synthetic Summaries Filtering"
   ]
  },
  {
   "cell_type": "code",
   "execution_count": null,
   "id": "ddf965e5",
   "metadata": {},
   "outputs": [],
   "source": [
    "# import pandas as pd\n",
    "# import json\n",
    "# with open('gpt/train_data.json', 'r') as fin:\n",
    "#     articles = [json.loads(s) for s in fin.readlines()]\n",
    "\n",
    "# df = pd.DataFrame(articles)\n",
    "\n",
    "# df[\"input_len\"] = df[\"input_ids\"].apply(lambda x: len(x))\n",
    "# print(df[\"input_len\"].describe())\n",
    "# df[\"input_len\"].hist(bins=50)\n",
    "\n",
    "# df['words'] = df['Text'].apply(lambda x: len(x.split()))\n",
    "# df[\"input_len\"] = df[\"Text\"].apply(lambda x: len(tokenizer(x)[\"input_ids\"]))\n",
    "# df[\"input_len\"].describe()"
   ]
  },
  {
   "cell_type": "code",
   "execution_count": 5,
   "id": "23d1700d",
   "metadata": {},
   "outputs": [],
   "source": [
    "from datasets import load_from_disk, concatenate_datasets\n",
    "\n",
    "nplus1_raw = load_from_disk(\"../../nplus1_gemini\")\n",
    "fontanka_raw = load_from_disk(\"../../fontanka_gemini\")\n",
    "synth_raw = concatenate_datasets([nplus1_raw, fontanka_raw])"
   ]
  },
  {
   "cell_type": "code",
   "execution_count": 3,
   "id": "e9701b91",
   "metadata": {},
   "outputs": [],
   "source": [
    "import re\n",
    "from nltk.tokenize import sent_tokenize\n",
    "\n",
    "link_pattern = re.compile(r'https?://\\S+|www\\.\\S+', re.IGNORECASE)\n",
    "\n",
    "def remove_link_sentences(text):\n",
    "    if text is None:\n",
    "        return text, 0\n",
    "    sentences = sent_tokenize(text, language='russian')\n",
    "    clean_sentences = [s for s in sentences if not link_pattern.search(s)]\n",
    "    changed = int(len(clean_sentences) < len(sentences))\n",
    "    return ' '.join(clean_sentences), changed\n",
    "\n",
    "def process_entry(x):\n",
    "    total_removed = 0\n",
    "    new_summaries = []\n",
    "    for i in x[\"summaries\"]:\n",
    "        new_text, removed = remove_link_sentences(i)\n",
    "        new_summaries.append(new_text)\n",
    "        total_removed += removed\n",
    "    x[\"summaries\"] = new_summaries\n",
    "    x[\"removed_count\"] = total_removed\n",
    "    return x\n"
   ]
  },
  {
   "cell_type": "code",
   "execution_count": null,
   "id": "45fb7d95",
   "metadata": {},
   "outputs": [],
   "source": [
    "\n",
    "synth_raw = synth_raw.map(process_entry, num_proc=4)\n",
    "\n",
    "total_removed = sum(synth_raw[\"removed_count\"])\n",
    "print(f\"Total removed: {total_removed}\")\n"
   ]
  },
  {
   "cell_type": "code",
   "execution_count": 4,
   "id": "5ca34ead",
   "metadata": {},
   "outputs": [
    {
     "data": {
      "application/vnd.jupyter.widget-view+json": {
       "model_id": "3b3aabf02490405d8a54a9fe14ea99df",
       "version_major": 2,
       "version_minor": 0
      },
      "text/plain": [
       "Map:   0%|          | 0/24193 [00:00<?, ? examples/s]"
      ]
     },
     "metadata": {},
     "output_type": "display_data"
    }
   ],
   "source": [
    "from sentence_transformers import SentenceTransformer, util\n",
    "import torch\n",
    "\n",
    "MODEL_NAME = \"intfloat/multilingual-e5-large\"\n",
    "\n",
    "def select_best_summary(examples):\n",
    "    device = \"cuda\" if torch.cuda.is_available() else \"cpu\"\n",
    "    model = SentenceTransformer(MODEL_NAME, device=device)\n",
    "\n",
    "    source_texts = examples['text']\n",
    "    candidate_summaries_list = examples['summaries']\n",
    "\n",
    "    all_texts_to_encode = []\n",
    "    candidate_indices_in_flat_list_per_example = []\n",
    "    current_flat_index = 0\n",
    "\n",
    "    for text, summaries in zip(source_texts, candidate_summaries_list):\n",
    "        all_texts_to_encode.append(\"query: \" + text)\n",
    "        current_flat_index += 1\n",
    "\n",
    "        current_example_candidate_indices = []\n",
    "        for summary in summaries:\n",
    "            all_texts_to_encode.append(\"passage: \" + summary.strip())\n",
    "            current_example_candidate_indices.append(current_flat_index)\n",
    "            current_flat_index += 1\n",
    "\n",
    "        candidate_indices_in_flat_list_per_example.append(current_example_candidate_indices)\n",
    "\n",
    "    embeddings = model.encode(\n",
    "        all_texts_to_encode,\n",
    "        convert_to_tensor=True,\n",
    "        device=device,\n",
    "    )\n",
    "\n",
    "    selected_summaries = []\n",
    "    flat_emb_current_index = 0\n",
    "\n",
    "    for i in range(len(source_texts)):\n",
    "        source_embedding = embeddings[flat_emb_current_index].unsqueeze(0)\n",
    "        flat_emb_current_index += 1\n",
    "\n",
    "        example_candidate_indices = candidate_indices_in_flat_list_per_example[i]\n",
    "        candidate_embeddings = embeddings[example_candidate_indices]\n",
    "        cosine_scores = util.pytorch_cos_sim(source_embedding, candidate_embeddings)[0]\n",
    "        best_index = torch.argmax(cosine_scores).item()\n",
    "        best_flat_index = example_candidate_indices[best_index]\n",
    "        best_summary = all_texts_to_encode[best_flat_index].replace(\"passage: \", \"\")\n",
    "        flat_emb_current_index += len(example_candidate_indices)\n",
    "\n",
    "        selected_summaries.append(best_summary)\n",
    "\n",
    "    return {'text': source_texts, 'summary': selected_summaries}\n",
    "\n",
    "processed_dataset = synth_raw.map(\n",
    "    select_best_summary,\n",
    "    batched=True,\n",
    "    batch_size=256, \n",
    "    remove_columns=synth_raw.column_names,\n",
    ")\n",
    "\n",
    "import torch\n",
    "import gc\n",
    "gc.collect()\n",
    "torch.cuda.empty_cache()"
   ]
  },
  {
   "cell_type": "code",
   "execution_count": 5,
   "id": "7832b133",
   "metadata": {},
   "outputs": [
    {
     "name": "stdout",
     "output_type": "stream",
     "text": [
      "Победитель является самым длинным саммари в 45.74% случаев.\n"
     ]
    }
   ],
   "source": [
    "is_longest = []\n",
    "for selected_summary, candidate_summaries in zip(processed_dataset['summary'], synth_raw['summaries']):\n",
    "    candidate_summaries = [s.strip() for s in candidate_summaries]\n",
    "    lengths = [len(s) for s in candidate_summaries]\n",
    "    max_length = max(lengths)\n",
    "    max_length_indices = [i for i, l in enumerate(lengths) if l == max_length]\n",
    "    selected_index = candidate_summaries.index(selected_summary)\n",
    "    is_longest.append(1 if selected_index in max_length_indices else 0)\n",
    "percentage = sum(is_longest) / len(is_longest)\n",
    "print(f\"Победитель является самым длинным саммари в {percentage:.2%} случаев.\")"
   ]
  },
  {
   "cell_type": "code",
   "execution_count": 6,
   "id": "4f82deb4",
   "metadata": {},
   "outputs": [
    {
     "data": {
      "application/vnd.jupyter.widget-view+json": {
       "model_id": "62cb7f228ec74c2382785b8222835022",
       "version_major": 2,
       "version_minor": 0
      },
      "text/plain": [
       "Saving the dataset (0/1 shards):   0%|          | 0/24193 [00:00<?, ? examples/s]"
      ]
     },
     "metadata": {},
     "output_type": "display_data"
    }
   ],
   "source": [
    "processed_dataset.save_to_disk('../data/synthetic_data')"
   ]
  },
  {
   "cell_type": "code",
   "execution_count": null,
   "id": "fcdaa241",
   "metadata": {},
   "outputs": [],
   "source": [
    "# from datasets import load_from_disk, concatenate_datasets\n",
    "\n",
    "# nplus1_raw = load_from_disk(\"../../nplus1_gemini\")\n",
    "# fontanka_raw = load_from_disk(\"../../fontanka_gemini\")\n",
    "\n",
    "# def choose_sortest(example):\n",
    "#     lens = [len(i) for i in example['summaries']]\n",
    "#     shortest = example['summaries'][lens.index(min(lens))]\n",
    "#     return {'text': example['text'], 'summary': shortest}\n",
    "\n",
    "\n",
    "# nplus1_raw = nplus1_raw.map(\n",
    "#     choose_sortest,\n",
    "#     remove_columns=nplus1_raw.column_names,\n",
    "# )\n",
    "\n",
    "# fontanka_raw = fontanka_raw.map(\n",
    "#     choose_sortest,\n",
    "#     remove_columns=fontanka_raw.column_names,\n",
    "# )\n",
    "\n",
    "# synth_data = concatenate_datasets([nplus1_raw, fontanka_raw])"
   ]
  },
  {
   "cell_type": "code",
   "execution_count": 19,
   "id": "6e7df1ba",
   "metadata": {},
   "outputs": [],
   "source": [
    "from datasets import load_from_disk\n",
    "\n",
    "processed_dataset = load_from_disk(\"../data/synthetic_data\")"
   ]
  },
  {
   "cell_type": "code",
   "execution_count": 20,
   "id": "9e6a9f05",
   "metadata": {},
   "outputs": [
    {
     "data": {
      "application/vnd.jupyter.widget-view+json": {
       "model_id": "af5921b8b4114331beed7e0b1fb751b3",
       "version_major": 2,
       "version_minor": 0
      },
      "text/plain": [
       "Map (num_proc=4):   0%|          | 0/24193 [00:00<?, ? examples/s]"
      ]
     },
     "metadata": {},
     "output_type": "display_data"
    },
    {
     "name": "stdout",
     "output_type": "stream",
     "text": [
      "Total removed: 15\n"
     ]
    }
   ],
   "source": [
    "def process_entry(x):\n",
    "    new_text, removed = remove_link_sentences(x['text'])\n",
    "    x[\"text\"] = new_text\n",
    "    x[\"removed_count\"] = removed\n",
    "    return x\n",
    "\n",
    "processed_dataset = processed_dataset.map(process_entry, num_proc=4)\n",
    "\n",
    "total_removed = sum(processed_dataset[\"removed_count\"])\n",
    "print(f\"Total removed: {total_removed}\")"
   ]
  },
  {
   "cell_type": "code",
   "execution_count": 21,
   "id": "327c1788",
   "metadata": {},
   "outputs": [
    {
     "data": {
      "application/vnd.jupyter.widget-view+json": {
       "model_id": "0ad655a4a48b466b81c43c0b6dc6e397",
       "version_major": 2,
       "version_minor": 0
      },
      "text/plain": [
       "Filter (num_proc=4):   0%|          | 0/24193 [00:00<?, ? examples/s]"
      ]
     },
     "metadata": {},
     "output_type": "display_data"
    },
    {
     "data": {
      "text/plain": [
       "Dataset({\n",
       "    features: ['text', 'summary', 'removed_count'],\n",
       "    num_rows: 24047\n",
       "})"
      ]
     },
     "execution_count": 21,
     "metadata": {},
     "output_type": "execute_result"
    }
   ],
   "source": [
    "bad_pattern = re.compile(r'благотворительный фонд', re.IGNORECASE)\n",
    "def filt(x):\n",
    "    return not bad_pattern.search(x['text'])\n",
    "\n",
    "processed_dataset = processed_dataset.filter(filt, num_proc=4)\n",
    "processed_dataset"
   ]
  },
  {
   "cell_type": "code",
   "execution_count": 22,
   "id": "dd54149d",
   "metadata": {},
   "outputs": [
    {
     "data": {
      "application/vnd.jupyter.widget-view+json": {
       "model_id": "d33bbdf775944556bf9f855abab40a2f",
       "version_major": 2,
       "version_minor": 0
      },
      "text/plain": [
       "Map (num_proc=16):   0%|          | 0/24047 [00:00<?, ? examples/s]"
      ]
     },
     "metadata": {},
     "output_type": "display_data"
    }
   ],
   "source": [
    "processed_dataset = processed_dataset.map(count, num_proc=16)"
   ]
  },
  {
   "cell_type": "code",
   "execution_count": 23,
   "id": "bfdea4c8",
   "metadata": {},
   "outputs": [
    {
     "data": {
      "text/plain": [
       "Index(['text', 'summary', 'removed_count', 'input_tokens', 'target_tokens',\n",
       "       'source_words', 'target_words'],\n",
       "      dtype='object')"
      ]
     },
     "execution_count": 23,
     "metadata": {},
     "output_type": "execute_result"
    }
   ],
   "source": [
    "df = processed_dataset.to_pandas()\n",
    "df.columns"
   ]
  },
  {
   "cell_type": "code",
   "execution_count": 24,
   "id": "5b54d260",
   "metadata": {},
   "outputs": [],
   "source": [
    "# import re\n",
    "# from nltk.tokenize import sent_tokenize\n",
    "\n",
    "# link_pattern = re.compile(r'https?://\\S+|www\\.\\S+', re.IGNORECASE)\n",
    "\n",
    "# linked_sentences = []\n",
    "\n",
    "# for i, v in enumerate(df['text'].dropna()):\n",
    "#     sentences = sent_tokenize(v, language='russian')\n",
    "#     for sent in sentences:\n",
    "#         if link_pattern.search(sent):\n",
    "#             linked_sentences.append((i, sent.strip()))\n",
    "\n",
    "# print(len(linked_sentences))\n",
    "# for i in linked_sentences[:1000]:\n",
    "#     print(i)\n"
   ]
  },
  {
   "cell_type": "code",
   "execution_count": 25,
   "id": "36fbcc1d",
   "metadata": {},
   "outputs": [],
   "source": [
    "df['compression_ratio_words'] = df['target_words'] / df['source_words']"
   ]
  },
  {
   "cell_type": "code",
   "execution_count": 26,
   "id": "034cddb7",
   "metadata": {},
   "outputs": [
    {
     "data": {
      "text/plain": [
       "<Axes: >"
      ]
     },
     "execution_count": 26,
     "metadata": {},
     "output_type": "execute_result"
    },
    {
     "data": {
      "image/png": "[encoded data removed]",
      "text/plain": [
       "<Figure size 640x480 with 1 Axes>"
      ]
     },
     "metadata": {},
     "output_type": "display_data"
    }
   ],
   "source": [
    "df['source_words'].hist(bins=60)"
   ]
  },
  {
   "cell_type": "code",
   "execution_count": 27,
   "id": "b80a7f17",
   "metadata": {},
   "outputs": [
    {
     "data": {
      "text/plain": [
       "<Axes: >"
      ]
     },
     "execution_count": 27,
     "metadata": {},
     "output_type": "execute_result"
    },
    {
     "data": {
      "image/png": "[encoded data removed]",
      "text/plain": [
       "<Figure size 640x480 with 1 Axes>"
      ]
     },
     "metadata": {},
     "output_type": "display_data"
    }
   ],
   "source": [
    "df['target_words'].hist(bins=46)"
   ]
  },
  {
   "cell_type": "code",
   "execution_count": 28,
   "id": "3bdd8647",
   "metadata": {},
   "outputs": [
    {
     "data": {
      "text/plain": [
       "<Axes: >"
      ]
     },
     "execution_count": 28,
     "metadata": {},
     "output_type": "execute_result"
    },
    {
     "data": {
      "image/png": "[encoded data removed]",
      "text/plain": [
       "<Figure size 640x480 with 1 Axes>"
      ]
     },
     "metadata": {},
     "output_type": "display_data"
    }
   ],
   "source": [
    "df['target_tokens'].hist(bins=46)"
   ]
  },
  {
   "cell_type": "code",
   "execution_count": 29,
   "id": "2480b98f",
   "metadata": {},
   "outputs": [
    {
     "data": {
      "text/plain": [
       "<Axes: >"
      ]
     },
     "execution_count": 29,
     "metadata": {},
     "output_type": "execute_result"
    },
    {
     "data": {
      "image/png": "[encoded data removed]",
      "text/plain": [
       "<Figure size 640x480 with 1 Axes>"
      ]
     },
     "metadata": {},
     "output_type": "display_data"
    }
   ],
   "source": [
    "df['compression_ratio_words'].hist(bins=30)"
   ]
  },
  {
   "cell_type": "code",
   "execution_count": 30,
   "id": "45ef3f9e",
   "metadata": {},
   "outputs": [
    {
     "data": {
      "text/plain": [
       "(18633, 8)"
      ]
     },
     "execution_count": 30,
     "metadata": {},
     "output_type": "execute_result"
    }
   ],
   "source": [
    "df1 = df[df['compression_ratio_words']<=0.4]\n",
    "df1.shape"
   ]
  },
  {
   "cell_type": "markdown",
   "id": "042444ee",
   "metadata": {},
   "source": [
    "# SEAHORSE"
   ]
  },
  {
   "cell_type": "code",
   "execution_count": null,
   "id": "6361e587",
   "metadata": {},
   "outputs": [],
   "source": [
    "from datasets import load_dataset, concatenate_datasets\n",
    "seahorse = load_dataset(\"hgissbkh/seahorse\")"
   ]
  },
  {
   "cell_type": "code",
   "execution_count": null,
   "id": "978111f5",
   "metadata": {},
   "outputs": [],
   "source": [
    "seahorse"
   ]
  },
  {
   "cell_type": "code",
   "execution_count": null,
   "id": "bed1105c",
   "metadata": {},
   "outputs": [],
   "source": [
    "QUESTION = \"conciseness\"\n",
    "LANGUAGES = [\"ru\", \"en\"]\n",
    "\n",
    "\n",
    "def filter_data(example):\n",
    "    if(example[QUESTION] == 0.5):\n",
    "        return False\n",
    "\n",
    "    example[QUESTION] = int(example[QUESTION])\n",
    "    return example['lang'] in LANGUAGES #and len(example['summary']) > 15\n",
    "\n",
    "seahorse_f = seahorse.filter(filter_data)"
   ]
  },
  {
   "cell_type": "code",
   "execution_count": null,
   "id": "5a037147",
   "metadata": {},
   "outputs": [],
   "source": [
    "full = concatenate_datasets([seahorse_f[\"train\"], seahorse_f[\"validation\"], seahorse_f[\"test\"]])"
   ]
  },
  {
   "cell_type": "code",
   "execution_count": null,
   "id": "cc3ea9df",
   "metadata": {},
   "outputs": [],
   "source": [
    "# full = full.map(lambda x: {\"len\": len(tokenizer(x[\"summary\"])[\"input_ids\"])})\n",
    "\n",
    "# import pandas as pd \n",
    "\n",
    "# df = pd.DataFrame(full)\n",
    "\n",
    "# print(df[\"len\"].describe())\n",
    "\n",
    "# df[\"len\"].hist(bins=20)"
   ]
  },
  {
   "cell_type": "code",
   "execution_count": null,
   "id": "f4f42c85",
   "metadata": {},
   "outputs": [],
   "source": [
    "from transformers import AutoTokenizer\n",
    "\n",
    "tokenizer = AutoTokenizer.from_pretrained(\"ai-forever/ruT5-base\")\n",
    "FORMAT = \"тест:\\n {} саммари:\\n {}\"\n",
    "\n",
    "def preprocess(examples):\n",
    "    inputs = [FORMAT.format(article, summary)\n",
    "              for article, summary in zip(examples['text'], examples['summary'])]\n",
    "    tokenized = tokenizer(inputs, truncation=False)[\"input_ids\"]\n",
    "    return {\"input_ids\": tokenized}\n",
    "\n",
    "\n",
    "seahorse_f = seahorse_f.map(preprocess, batched=True, num_proc=16)"
   ]
  },
  {
   "cell_type": "code",
   "execution_count": null,
   "id": "24fe5229",
   "metadata": {},
   "outputs": [],
   "source": [
    "full = concatenate_datasets([seahorse_f[\"train\"], seahorse_f[\"validation\"], seahorse_f[\"test\"]])"
   ]
  },
  {
   "cell_type": "code",
   "execution_count": null,
   "id": "54002c1c",
   "metadata": {},
   "outputs": [],
   "source": [
    "import pandas as pd\n",
    "\n",
    "df = pd.DataFrame(full)"
   ]
  },
  {
   "cell_type": "code",
   "execution_count": null,
   "id": "109aad44",
   "metadata": {},
   "outputs": [],
   "source": [
    "df['sum_len'] = df['summary'].apply(len)"
   ]
  },
  {
   "cell_type": "code",
   "execution_count": null,
   "id": "ad3e5a10",
   "metadata": {},
   "outputs": [],
   "source": [
    "df['sum_len'].describe()"
   ]
  },
  {
   "cell_type": "code",
   "execution_count": null,
   "id": "65207e2e",
   "metadata": {},
   "outputs": [],
   "source": [
    "from nltk.tokenize import word_tokenize\n",
    "df['sum_words'] = df['summary'].apply(lambda x: len([token for token in word_tokenize(x) if token.isalpha()]))"
   ]
  },
  {
   "cell_type": "code",
   "execution_count": null,
   "id": "bc85e12a",
   "metadata": {},
   "outputs": [],
   "source": [
    "df['sum_words'].describe()"
   ]
  },
  {
   "cell_type": "code",
   "execution_count": null,
   "id": "0742effc",
   "metadata": {},
   "outputs": [],
   "source": [
    "df[df.duplicated([\"text\", \"summary\"], keep=False)].sort_values(\"summary\")"
   ]
  },
  {
   "cell_type": "code",
   "execution_count": null,
   "id": "4793dde7",
   "metadata": {},
   "outputs": [],
   "source": [
    "print(df[QUESTION].value_counts())\n",
    "df[QUESTION].value_counts().plot(kind='bar')"
   ]
  }
 ],
 "metadata": {
  "kernelspec": {
   "display_name": ".venv",
   "language": "python",
   "name": "python3"
  },
  "language_info": {
   "codemirror_mode": {
    "name": "ipython",
    "version": 3
   },
   "file_extension": ".py",
   "mimetype": "text/x-python",
   "name": "python",
   "nbconvert_exporter": "python",
   "pygments_lexer": "ipython3",
   "version": "3.10.12"
  }
 },
 "nbformat": 4,
 "nbformat_minor": 5
}
